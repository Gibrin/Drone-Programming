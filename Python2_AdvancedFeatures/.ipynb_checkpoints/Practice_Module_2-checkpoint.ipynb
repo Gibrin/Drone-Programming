{
 "cells": [
  {
   "cell_type": "markdown",
   "metadata": {
    "colab_type": "text",
    "id": "view-in-github"
   },
   "source": [
    "a href=\"https://colab.research.google.com/github/Gibrin/Drone-Programming/blob/main/Practice_Module_2.ipynb\" target=\"_parent\"><img src=\"https://colab.research.google.com/assets/colab-badge.svg\" alt=\"Open In Colab\"/></a>"
   ]
  },
  {
   "cell_type": "code",
   "execution_count": null,
   "metadata": {},
   "outputs": [],
   "source": [
    "# Практика. Модуль 2"
   ]
  },
  {
   "cell_type": "markdown",
   "metadata": {},
   "source": [
    "## ЗАДАНИЕ 1 Поготовка\n",
    "\n",
    "Давайте обратимся к практическим аспектам, которые мы рассмотрели в этом модуле. Для этого поэтапно реализуем класс Wallet, который представляет собой объекты вида «Кошелёк». В объекте-кошельке будем хранить имя владельца, а также денежные средства в различных валютах.\n",
    "\n",
    "Для начала опишем атрибуты и методы класса:\n",
    "* атрибут owner_name: имя владельца;\n",
    "* атрибут assets типа dict: активы человека в различных валютах.\n",
    "\n",
    "Пример:\n",
    "\n",
    "assets = {'RUB': 0.0, 'USD': 0.0, 'EUR': 0.0}\n",
    "* метод $__init__$: инициализация кошелька;\n",
    "* метод $__float__$: нахождение общей стоимости активов в рублях;\n",
    "* метод $__int__$: количество активов с ненулевой стоимостью;\n",
    "* метод $__bool__$: возвращает True, если **все** активы имеют ненулевой баланс;\n",
    "* метод $__eq__$: возвращает True, если у сравниваемых кошельков self и other одинаковая стоимость активов (в рублях);\n",
    "* метод $__lt__$: возвращает True, если стоимость активов self меньше, чем стоимость активов other (в рублях);\n",
    "* метод $__gt__$: возвращает True, если стоимость активов self больше, чем стоимость активов other (в рублях);\n",
    "* метод $__sub__$: вычитание кортежа вида ('RUB', 100), при котором из актива RUB вычитается 100 единиц;\n",
    "* метод $__add__$: позволяет добавить кортеж вида ('RUB', 100) и тем самым увеличить актив RUB на 100 единиц; второй вариант использования — объединение двух кошельков self и other, при котором новый кошелёк принадлежит владельцу self, а активы суммируются из обоих кошельков;\n",
    "* метод $__iter__$: возвращает итератор списка кортежей, состоящий из активов, упорядоченных по возрастанию стоимости (в рублях);\n",
    "* метод $__getitem__$: возвращает размер актива по ключу вида self['RUB'];\n",
    "* метод $__setitem__$: позволяет установить размер актива путём присваивания вида self['RUB']=100.\n",
    "\n",
    "В ходе реализации этих методов мы ещё раз вернёмся к основам объектно-ориентированного программирования и возможностям Python в рамках парадигмы функционального программирования, а также поработаем с последовательностями и их обработкой."
   ]
  },
  {
   "cell_type": "code",
   "execution_count": null,
   "metadata": {
    "id": "gzyO2n9Ss8Ar"
   },
   "outputs": [],
   "source": [
    "# ЗАДАНИЕ №1.1\n",
    "class Wallet:\n",
    "    convert = {'RUB': 1, 'USD': 62.1, 'EUR': 69.7}  # по состоянию на 1 января 2020 г.\n",
    "\n",
    "    def __init__(self, owner_name, RUB=0.0, USD=0.0, EUR=0.0):\n",
    "        # Проверяем, что owner_name является строкой\n",
    "        if not isinstance(owner_name, str):\n",
    "            raise ValueError(\"Имя владельца должно быть строковым типом\")\n",
    "        \n",
    "        # Инициализируем атрибуты объекта\n",
    "        self.__owner_name = owner_name\n",
    "        self.assets = {\n",
    "            'RUB': float(RUB),\n",
    "            'USD': float(USD),\n",
    "            'EUR': float(EUR)\n",
    "        }\n",
    "\n",
    "    # ЗАДАНИЕ №1.2\n",
    "    # Метод __iter__() возвращает генератор, используя yield from\n",
    "    def __iter__(self):\n",
    "        yield from self.assets.items()  # items() возвращает кортежи (ключ, значение)\n",
    "\n",
    "    # ЗАДАНИЕ №1.3\n",
    "    # Метод __str__() для строкового представления объекта\n",
    "    def __str__(self):\n",
    "        # Формируем строку с информацией о владельце и активах\n",
    "        assets_str = ', '.join(f\"{value} {currency}\" for currency, value in self.assets.items())\n",
    "        return f\"{self.__owner_name}: {assets_str}\"\n",
    "\n",
    "    # ЗАДАНИЕ №1.4\n",
    "    # Метод __float__() для преобразования в число с плавающей точкой\n",
    "    def __float__(self):\n",
    "        # Конвертируем все активы в рубли и суммируем их\n",
    "        total_rub = sum(value * self.convert[currency] for currency, value in self.assets.items())\n",
    "        return total_rub\n",
    "\n",
    "    # ЗАДАНИЕ №1.5\n",
    "    # Метод __int__() для преобразования в целое число\n",
    "    def __int__(self):\n",
    "        # Подсчитываем количество активов с ненулевым объёмом\n",
    "        non_zero_assets = sum(1 for value in self.assets.values() if value > 0)\n",
    "        return non_zero_assets\n",
    "\n",
    "    # ЗАДАНИЕ №1.6\n",
    "    # Метод __bool__() для преобразования в булево значение\n",
    "    def __bool__(self):\n",
    "        # Проверяем, все ли активы имеют ненулевой объём\n",
    "        return all(value > 0 for value in self.assets.values())\n",
    "\n",
    "    # ЗАДАНИЕ №1.7\n",
    "    # Метод __eq__() для проверки равенства (==)\n",
    "    def __eq__(self, other):\n",
    "        if not isinstance(other, Wallet):\n",
    "            return NotImplemented  # Если other не является объектом Wallet\n",
    "        return float(self) == float(other)\n",
    "\n",
    "    # Метод __lt__() для проверки \"меньше\" (<)\n",
    "    def __lt__(self, other):\n",
    "        if not isinstance(other, Wallet):\n",
    "            return NotImplemented  # Если other не является объектом Wallet\n",
    "        return float(self) < float(other)\n",
    "\n",
    "    # Метод __gt__() для проверки \"больше\" (>)\n",
    "    def __gt__(self, other):\n",
    "        if not isinstance(other, Wallet):\n",
    "            return NotImplemented  # Если other не является объектом Wallet\n",
    "        return float(self) > float(other)\n",
    "\n",
    "    # ЗАДАНИЕ №1.8\n",
    "    # Метод __sub__() для вычитания активов\n",
    "    def __sub__(self, other):\n",
    "        # Проверяем, что other — кортеж (актив, размер актива)\n",
    "        if not isinstance(other, tuple) or len(other) != 2:\n",
    "            raise TypeError(\"Правый операнд должен быть кортежем вида (актив, размер актива)\")\n",
    "\n",
    "        currency, amount = other\n",
    "        # Проверяем, что валюта существует в кошельке\n",
    "        if currency not in self.assets:\n",
    "            raise ValueError(f\"Валюта {currency} не поддерживается\")\n",
    "\n",
    "        # Проверяем, достаточно ли средств\n",
    "        if self.assets[currency] < amount:\n",
    "            raise ValueError(\"Недостаточно средств\")\n",
    "\n",
    "        # Создаем новый объект Wallet с обновленными данными\n",
    "        new_assets = self.assets.copy()\n",
    "        new_assets[currency] -= amount\n",
    "        return Wallet(owner_name=self.__owner_name, **new_assets)\n",
    "\n",
    "    # ЗАДАНИЕ №1.9\n",
    "    # Метод __add__() для добавления активов\n",
    "    def __add__(self, other):\n",
    "        # Создаем копию текущих активов\n",
    "        new_assets = self.assets.copy()\n",
    "\n",
    "        if isinstance(other, tuple):  # Если other — кортеж (актив, размер актива)\n",
    "            if len(other) != 2:\n",
    "                raise TypeError(\"Правый операнд должен быть кортежем вида (актив, размер актива)\")\n",
    "            currency, amount = other\n",
    "            # Проверяем, что валюта существует в кошельке\n",
    "            if currency not in self.assets:\n",
    "                raise ValueError(f\"Валюта {currency} не поддерживается\")\n",
    "            new_assets[currency] += amount\n",
    "\n",
    "        elif isinstance(other, Wallet):  # Если other — другой объект Wallet\n",
    "            for currency, amount in other.assets.items():\n",
    "                if currency not in self.assets:\n",
    "                    raise ValueError(f\"Валюта {currency} не поддерживается\")\n",
    "                new_assets[currency] += amount\n",
    "\n",
    "        else:\n",
    "            raise TypeError(\"Правый операнд должен быть кортежем (актив, размер актива) или объектом Wallet\")\n",
    "\n",
    "        # Возвращаем новый объект Wallet с обновленными данными\n",
    "        return Wallet(owner_name=self.__owner_name, **new_assets)\n",
    "\n",
    "    # ЗАДАНИЕ №1.10\n",
    "    # Метод __getitem__() для получения значения актива\n",
    "    def __getitem__(self, key):\n",
    "        if key not in self.assets:\n",
    "            raise KeyError(f\"Валюта {key} не поддерживается\")\n",
    "        return self.assets[key]\n",
    "\n",
    "    # Метод __setitem__() для установки нового значения актива\n",
    "    def __setitem__(self, key, value):\n",
    "        if key not in self.assets:\n",
    "            raise KeyError(f\"Валюта {key} не поддерживается\")\n",
    "        if value < 0:\n",
    "            raise ValueError(\"Размер актива не может быть отрицательным\")\n",
    "        self.assets[key] = value\n",
    "\n",
    "# Примеры использования\n",
    "ivan_wallet = Wallet(owner_name=\"Иван Иванов\")\n",
    "petr_wallet = Wallet(owner_name=\"Петр Петров\",\n",
    "                     RUB=50000,\n",
    "                     USD=250,\n",
    "                     EUR=900)\n",
    "alex_wallet = Wallet(owner_name=\"Алексей Алексеев\",\n",
    "                     RUB=100000,\n",
    "                     USD=0,\n",
    "                     EUR=0)\n",
    "\n",
    "# Выводим содержимое кошелька Петра\n",
    "print(petr_wallet.assets)\n",
    "\n",
    "# Попытка создать объект с некорректным owner_name\n",
    "try:\n",
    "    error_wallet = Wallet(owner_name=[\"Сергей\", \"Сергеев\"],\n",
    "                          RUB=20000,\n",
    "                          USD=400,\n",
    "                          EUR=170)\n",
    "except ValueError as e:\n",
    "    print(e)\n",
    "\n",
    "# Цикл for автоматически использует итератор для Задания №1.2\n",
    "for asset, size in petr_wallet:\n",
    "    print(f\"Asset: {asset}. Size: {size}\")\n",
    "\n",
    "# Выводим строковое представление кошелька для Задания №1.3\n",
    "print(str(petr_wallet))\n",
    "\n",
    "# Выводим числовое представление кошелька для Задания №1.4\n",
    "print(float(petr_wallet))\n",
    "\n",
    "# Выводим целочисленное представление кошелька для Задания №1.5\n",
    "print(int(alex_wallet))\n",
    "\n",
    "# Выводим булево представление кошельков для Задания №1.6\n",
    "print(bool(petr_wallet))  # True\n",
    "print(bool(alex_wallet))  # False\n",
    "\n",
    "# Выводим результаты сравнений для Задания №1.7\n",
    "print(petr_wallet < alex_wallet)  # False\n",
    "print(petr_wallet == Wallet(\"undefined user\", RUB=128255.0))  # True\n",
    "\n",
    "# Уменьшаем количество долларов в кошельке Петра для Задания №1.8\n",
    "petr_wallet = petr_wallet - ('USD', 50)\n",
    "print(str(petr_wallet))  # Вывод: Петр Петров: 50000 RUB, 200 USD, 900 EUR\n",
    "\n",
    "# Попытка уменьшить количество долларов в кошельке Алексея\n",
    "try:\n",
    "    alex_wallet = alex_wallet - ('USD', 50)\n",
    "except ValueError as e:\n",
    "    print(e)  # Вывод: Недостаточно средств\n",
    "\n",
    "# Добавляем деньги в кошелек Алексея (задание №1.9)\n",
    "alex_wallet = alex_wallet + ('EUR', 100)\n",
    "print(str(alex_wallet))  # Вывод: Алексей Алексеев: 100000 RUB, 0 USD, 100 EUR\n",
    "\n",
    "# Объединяем кошельки\n",
    "petr_wallet = petr_wallet + alex_wallet\n",
    "print(str(petr_wallet))  # Вывод: Петр Петров: 150000 RUB, 200 USD, 1000 EUR\n",
    "\n",
    "# Получение значения актива (задание №1.10)\n",
    "print(petr_wallet['EUR'])  # Вывод: 900\n",
    "\n",
    "# Установка нового значения актива\n",
    "alex_wallet['USD'] = 500\n",
    "print(alex_wallet['USD'])  # Вывод: 500"
   ]
  },
  {
   "cell_type": "markdown",
   "metadata": {
    "id": "LH0493FfqMoe"
   },
   "source": [
    "### Задание 1.1. Инициализация\n",
    "\n",
    "Сначала создадим метод инициализации объекта Wallet. В конструкторе проверим, что в аргументе owner_name находится строка, а также атрибуту assets присвоим словарь в соответствии с описанием из начала этого jupyter notebook.\n",
    "\n",
    "Если в аргументе owner_name указана не строковая переменная, то необходимо вызвать исключение ValueError с текстом \"Имя владельца должно быть строковым типом\".\n",
    "\n",
    "Добавьте код в метод $__init__()$ и запустите ячейку ниже."
   ]
  },
  {
   "cell_type": "code",
   "execution_count": null,
   "metadata": {
    "id": "0Maarqcth73w"
   },
   "outputs": [],
   "source": [
    "ivan_wallet = Wallet(owner_name=\"Иван Иванов\")\n",
    "petr_wallet = Wallet(owner_name=\"Петр Петров\",\n",
    "                     RUB = 50000,\n",
    "                     USD = 250,\n",
    "                     EUR = 900)\n",
    "alex_wallet = Wallet(owner_name=\"Алексей Алексеев\",\n",
    "                     RUB = 100000,\n",
    "                     USD = 0,\n",
    "                     EUR = 0)\n",
    "print(petr_wallet.assets)"
   ]
  },
  {
   "cell_type": "markdown",
   "metadata": {
    "id": "JnSKPWKz6ZpS"
   },
   "source": [
    "Вывод этой ячейки должен быть:\n",
    "\n",
    "{'RUB': 50000, 'USD': 250, 'EUR': 300}"
   ]
  },
  {
   "cell_type": "code",
   "execution_count": null,
   "metadata": {
    "id": "70O56MUQ7D1L"
   },
   "outputs": [],
   "source": [
    "error_wallet = Wallet(owner_name=[\"Сергей\", \"Сергеев\"],\n",
    "                     RUB = 20000,\n",
    "                     USD = 400,\n",
    "                     EUR = 170)"
   ]
  },
  {
   "cell_type": "markdown",
   "metadata": {
    "id": "1T-iY7ju7XQ5"
   },
   "source": [
    "После запуска ячейки вы должны увидеть исключение ValueError."
   ]
  },
  {
   "cell_type": "markdown",
   "metadata": {
    "id": "zxB2sSs56YiP"
   },
   "source": [
    "### Задание 1.2. Итераторы\n",
    "\n",
    "Создайте итератор кошелька, который будет возвращать кортежи из двух элементов (актив, размер актива). Для этого воспользуйтесь компактной записью генератора.\n",
    "\n",
    "\n",
    "Добавьте код в метод $__iter__()$ и запустите ячейку ниже."
   ]
  },
  {
   "cell_type": "code",
   "execution_count": null,
   "metadata": {
    "id": "2shPcmgQYMcE"
   },
   "outputs": [],
   "source": [
    "for asset, size in petr_wallet:\n",
    "  print(f\"Asset: {asset}. Size: {size}\")"
   ]
  },
  {
   "cell_type": "markdown",
   "metadata": {
    "id": "GIVumF2nYYoV"
   },
   "source": [
    "Вывод ячейки должен быть следующим:\n",
    "\n",
    "Asset: RUB. Size: 50000\n",
    "\n",
    "Asset: USD. Size: 250\n",
    "\n",
    "Asset: EUE. Size: 900"
   ]
  },
  {
   "cell_type": "markdown",
   "metadata": {
    "id": "VYp4W7Y1YpC1"
   },
   "source": [
    "### Задание 1.3. Преобразование к строкам\n",
    "\n",
    "Реализуйте функцию получения строкового представления объекта-кошелька.\n",
    "\n",
    "\n",
    "Добавьте код в метод $__str__()$ и запустите ячейку ниже."
   ]
  },
  {
   "cell_type": "code",
   "execution_count": null,
   "metadata": {
    "id": "_gRf8k1gYn_s"
   },
   "outputs": [],
   "source": [
    "print(str(petr_wallet))"
   ]
  },
  {
   "cell_type": "markdown",
   "metadata": {
    "id": "KH9DEytkZH_k"
   },
   "source": [
    "Вывод ячейки должен быть следующим:\n",
    "\n",
    "Петр Петров: 50000 RUB, 250 USD, 900 EUR"
   ]
  },
  {
   "cell_type": "markdown",
   "metadata": {
    "id": "TnAx8FA4ZX66"
   },
   "source": [
    "### Задание 1.4. Преобразование к числам с плавающей точкой\n",
    "\n",
    "Теперь преобразуем наш объект-кошелёк в число с плавающей точкой. Для этого нам необходимо найти общую стоимость активов, конвертированных в рубли. Курс конвертации хранится в переменной convert класса Wallet.\n",
    "\n",
    "\n",
    "\n",
    "Добавьте код в метод $__float__()$ и запустите ячейку ниже."
   ]
  },
  {
   "cell_type": "code",
   "execution_count": null,
   "metadata": {
    "id": "AjfLFQrSbeHV"
   },
   "outputs": [],
   "source": [
    "print(float(petr_wallet))"
   ]
  },
  {
   "cell_type": "markdown",
   "metadata": {
    "id": "QgLl42_mbsJO"
   },
   "source": [
    "Вывод ячейки должен быть: 128255.0"
   ]
  },
  {
   "cell_type": "markdown",
   "metadata": {
    "id": "kvDtWbOkWlQW"
   },
   "source": [
    "### Задание 1.5. Преобразование к целым числам\n",
    "\n",
    "Для преобразования объекта-кошелька к целым числам найдём количество активов с ненулевым объёмом средств на кошельке.\n",
    "\n",
    "\n",
    "\n",
    "Добавьте код в метод $__int__()$ и запустите ячейку ниже."
   ]
  },
  {
   "cell_type": "code",
   "execution_count": null,
   "metadata": {
    "id": "iQMdIIEVbqcp"
   },
   "outputs": [],
   "source": [
    "print(int(alex_wallet))"
   ]
  },
  {
   "cell_type": "markdown",
   "metadata": {
    "id": "V-Tjmac4XBrr"
   },
   "source": [
    "Вывод ячейки должен быть: 1"
   ]
  },
  {
   "cell_type": "markdown",
   "metadata": {
    "id": "07A696wDXHpt"
   },
   "source": [
    "### Задание 1.6. Преобразование к булевым значениям\n",
    "\n",
    "Теперь преобразуем объект-кошелёк к булевым значениям True и False. Будем возвращать True, если все активы в кошельке имеют ненулевой объём.\n",
    "\n",
    "\n",
    "\n",
    "Добавьте код в метод $__bool__()$ и запустите ячейку ниже."
   ]
  },
  {
   "cell_type": "code",
   "execution_count": null,
   "metadata": {
    "id": "Au7xZbs7XF9w"
   },
   "outputs": [],
   "source": [
    "print(bool(petr_wallet))\n",
    "print(bool(alex_wallet))"
   ]
  },
  {
   "cell_type": "markdown",
   "metadata": {
    "id": "jcP0p-3pYDpB"
   },
   "source": [
    "Вывод ячейки должен быть:\n",
    "\n",
    "True\n",
    "\n",
    "False"
   ]
  },
  {
   "cell_type": "markdown",
   "metadata": {
    "id": "4O8YZIGPYJH9"
   },
   "source": [
    "### Задание 1.7. Сравнение кошельков\n",
    "\n",
    "Чтобы сравнить кошельки, необходимо сравнить количество денежных средств в них. Мы уже создали функцию, которая позволяет вычислить стоимость всех активов в рублях — воспользуемся ей!\n",
    "\n",
    "\n",
    "Добавьте код в методы $__eq__()$, $__lt__()$ и $__gt__()$ и запустите ячейку ниже."
   ]
  },
  {
   "cell_type": "code",
   "execution_count": null,
   "metadata": {
    "id": "UHDz-ecfYG1-"
   },
   "outputs": [],
   "source": [
    "print(petr_wallet < alex_wallet)\n",
    "print(petr_wallet == Wallet(\"undefined user\", RUB=128255.0))"
   ]
  },
  {
   "cell_type": "markdown",
   "metadata": {
    "id": "r-19xjM2Z3XQ"
   },
   "source": [
    "Вывод ячейки должен быть:\n",
    "\n",
    "False\n",
    "\n",
    "True"
   ]
  },
  {
   "cell_type": "markdown",
   "metadata": {
    "id": "GNe_3WOaZ8yY"
   },
   "source": [
    "### Задание 1.8. Расходы\n",
    "\n",
    "Теперь реализуем простой интерфейс пользования нашим кошельком и научимся тратить с него деньги. Чтобы вывести из кошелька актив определённого объёма, вычтем из объекта-кошелька кортеж (актив, размер актива).\n",
    "\n",
    "Если размера актива недостаточно, необходимо вывести исключение ValueError с пояснением \"Недостаточно средств\".\n",
    "\n",
    "\n",
    "\n",
    "\n",
    "Добавьте код в метод $__sub__()$ и запустите ячейку ниже."
   ]
  },
  {
   "cell_type": "code",
   "execution_count": null,
   "metadata": {
    "id": "I4GAU5fNZ77x"
   },
   "outputs": [],
   "source": [
    "petr_wallet = petr_wallet - ('USD', 50)\n",
    "print(str(petr_wallet))"
   ]
  },
  {
   "cell_type": "markdown",
   "metadata": {
    "id": "uHs3ZkrTa_IJ"
   },
   "source": [
    "Вывод ячейки должен быть:\n",
    "\n",
    "Петр Петров: 50000 RUB, 250 USD, 900 EUR\n",
    "\n",
    "\n",
    "А при запуске следующей ячейки мы должны получить ошибку:"
   ]
  },
  {
   "cell_type": "code",
   "execution_count": null,
   "metadata": {
    "id": "-u6v3Vspa-ew"
   },
   "outputs": [],
   "source": [
    "alex_wallet = alex_wallet - ('USD', 50)"
   ]
  },
  {
   "cell_type": "markdown",
   "metadata": {
    "id": "iIyFNUoVbMDj"
   },
   "source": [
    "### Задание 1.9. Доходы\n",
    "\n",
    "Чтобы кошелёк не опустел, его нужно пополнять. Определим сложение в двух видах:\n",
    "1. Сложение с кортежем (актив, размер актива). Действует по принципу добавления размера актива к той сумме, которая уже есть в кошельке.\n",
    "2. Объединение кошельков. Все активы правого слагаемого добавим на счёт левого кошелька.\n",
    "\n",
    "\n",
    "\n",
    "\n",
    "Добавьте код в метод $__add__()$ и запустите ячейку ниже."
   ]
  },
  {
   "cell_type": "code",
   "execution_count": null,
   "metadata": {
    "id": "T-4YuHAebQbe"
   },
   "outputs": [],
   "source": [
    "alex_wallet = alex_wallet + ('EUR', 100)\n",
    "petr_wallet = petr_wallet + alex_wallet\n",
    "\n",
    "print(alex_wallet)\n",
    "print(petr_wallet)"
   ]
  },
  {
   "cell_type": "markdown",
   "metadata": {
    "id": "XwwP9QXScILV"
   },
   "source": [
    "Вывод ячейки должен быть:\n",
    "\n",
    "Алексей Алексеев: 100000 RUB, 0 USD, 100 EUR\n",
    "\n",
    "Петр Петров: 150000 RUB, 200 USD, 1000 EUR"
   ]
  },
  {
   "cell_type": "markdown",
   "metadata": {
    "id": "c1HTw3tDcwQy"
   },
   "source": [
    "### Задание 1.10. Быстрый доступ\n",
    "\n",
    "Осталось сделать только одну вещь: настроить быстрый доступ для получения и присваивания размеров активов. Мы хотим пользоваться кошельком как объектом типа «словарь». Реализуйте функции, чтобы вывод ячейки совпадал с описанием ниже.\n",
    "\n",
    "\n",
    "\n",
    "Добавьте код в методы $__getitem__()$ и $__setitem__()$ и запустите ячейку ниже."
   ]
  },
  {
   "cell_type": "code",
   "execution_count": null,
   "metadata": {
    "id": "RthpA90HdOqx"
   },
   "outputs": [],
   "source": [
    "print(petr_wallet['EUR'])"
   ]
  },
  {
   "cell_type": "markdown",
   "metadata": {
    "id": "IoPCDneOdU6z"
   },
   "source": [
    "Вывод ячейки должен быть: 1000"
   ]
  },
  {
   "cell_type": "code",
   "execution_count": null,
   "metadata": {
    "id": "mbnIRSVwdY2B"
   },
   "outputs": [],
   "source": [
    "alex_wallet['USD'] = 500\n",
    "print(alex_wallet['USD'])"
   ]
  },
  {
   "cell_type": "markdown",
   "metadata": {
    "id": "F__Lwlk8dg5A"
   },
   "source": [
    "Вывод ячейки должен быть: 500"
   ]
  },
  {
   "cell_type": "markdown",
   "metadata": {},
   "source": [
    "## ЗАДАНИЕ 2"
   ]
  },
  {
   "cell_type": "markdown",
   "metadata": {},
   "source": [
    "Напишите функцию-генератор, которая возвращает очередной элемент, содержащий числа Фибоначчи в количестве, переданном в функцию. Если число не передано, то мы возвращаем бесконечную последовательность. Ограничьте искусственно вывод 100 элементов.\n",
    "\n",
    "def get_fib_numbers(qty): \n",
    "    pass  \n",
    "\n",
    "fib_numbers = list(get_fib_numbers(10))\n",
    "assert len(fib_numbers) == 10 \n",
    "print(fib_numbers)  \n",
    "\n",
    "[0, 1, 1, 2, 3, 5, 8, 13, 21, 34] "
   ]
  },
  {
   "cell_type": "code",
   "execution_count": null,
   "metadata": {},
   "outputs": [],
   "source": [
    "def get_fib_numbers(qty=None):\n",
    "\n",
    "    a, b = 0, 1\n",
    "    count = 0\n",
    "    max_limit = 100  # ограничение для бесконечной последовательности\n",
    "    \n",
    "    while qty is None or count < qty:\n",
    "        if count >= max_limit:\n",
    "            break\n",
    "        yield a\n",
    "        a, b = b, a + b\n",
    "        count += 1\n",
    "\n",
    "\n",
    "# Тесты\n",
    "fib_numbers = list(get_fib_numbers(10))\n",
    "assert len(fib_numbers) == 10\n",
    "assert fib_numbers == [0, 1, 1, 2, 3, 5, 8, 13, 21, 34]\n",
    "print(fib_numbers)  # [0, 1, 1, 2, 3, 5, 8, 13, 21, 34]\n",
    "\n",
    "# Проверка бесконечной последовательности (ограничение 100 элементов)\n",
    "infinite_fib = list(get_fib_numbers())\n",
    "assert len(infinite_fib) == 100\n",
    "print(infinite_fib[:20])  # Первые 20 элементов из 100"
   ]
  },
  {
   "cell_type": "markdown",
   "metadata": {},
   "source": [
    "## ЗАДАНИЕ 3"
   ]
  },
  {
   "cell_type": "markdown",
   "metadata": {},
   "source": [
    "Напишите функции-генераторы, которые выводят элементы разложения sin, cos и exp в ряды Тейлора. После, используя функциональный подход, найдите сумму членов ряда и сравните её со значением вычисления функции из модуля math. Выведите разницу в экспоненциальном представлении.\n",
    "\n",
    "Разложение функций в ряд Тейлора:\n",
    "\n",
    "Входные данные\n",
    "\n",
    "Введите значение угла в радианах: 1\n",
    "\n",
    "Введите количество элементов ряда: 5\n",
    "\n",
    "Вывод программы\n",
    "\n",
    "math.sin(x) − sin(x) = -2.5e-8\n",
    "math.cos(x) − cos(x) = -2.7e-7\n",
    "math.exp(x) − exp(x) = 9.9e-3\n",
    "\n",
    "Рекомендации\n",
    "\n",
    "Запишите k-ый и (k-1)-ый члены разложения. Найдите множитель, на который они отличаются, чтобы использовать его в функции-генераторе.\n",
    "\n",
    "Для вывода числа в экспоненциальной форме вспомните тему «Форматирование строк»."
   ]
  },
  {
   "cell_type": "code",
   "execution_count": null,
   "metadata": {},
   "outputs": [],
   "source": [
    "import math\n",
    "\n",
    "def taylor_sin(x):\n",
    "    \"\"\"Генератор ряда Тейлора для sin(x)\"\"\"\n",
    "    term = x\n",
    "    n = 1\n",
    "    while True:\n",
    "        yield term\n",
    "        # Каждый следующий член получаем из предыдущего:\n",
    "        # (-1) * x² / ((2n)*(2n+1))\n",
    "        term *= -x * x / ((2*n) * (2*n + 1))\n",
    "        n += 1\n",
    "\n",
    "def taylor_cos(x):\n",
    "    \"\"\"Генератор ряда Тейлора для cos(x)\"\"\"\n",
    "    term = 1.0\n",
    "    n = 1\n",
    "    while True:\n",
    "        yield term\n",
    "        # Каждый следующий член получаем из предыдущего:\n",
    "        # (-1) * x² / ((2n-1)*(2n))\n",
    "        term *= -x * x / ((2*n - 1) * (2*n))\n",
    "        n += 1\n",
    "\n",
    "def taylor_exp(x):\n",
    "    \"\"\"Генератор ряда Тейлора для exp(x)\"\"\"\n",
    "    term = 1.0\n",
    "    n = 1\n",
    "    while True:\n",
    "        yield term\n",
    "        # Каждый следующий член получаем из предыдущего:\n",
    "        # x / n\n",
    "        term *= x / n\n",
    "        n += 1\n",
    "\n",
    "def sum_series(generator, x, n_terms):\n",
    "    \"\"\"Вычисляет сумму первых n_terms членов ряда\"\"\"\n",
    "    series = generator(x)\n",
    "    return sum(next(series) for _ in range(n_terms))\n",
    "\n",
    "# Ввод данных\n",
    "x = float(input(\"Введите значение угла в радианах: \"))\n",
    "n_terms = int(input(\"Введите количество элементов ряда: \"))\n",
    "\n",
    "# Вычисление сумм\n",
    "sin_sum = sum_series(taylor_sin, x, n_terms)\n",
    "cos_sum = sum_series(taylor_cos, x, n_terms)\n",
    "exp_sum = sum_series(taylor_exp, x, n_terms)\n",
    "\n",
    "# Точные значения\n",
    "sin_exact = math.sin(x)\n",
    "cos_exact = math.cos(x)\n",
    "exp_exact = math.exp(x)\n",
    "\n",
    "# Вычисление разниц\n",
    "sin_diff = sin_exact - sin_sum\n",
    "cos_diff = cos_exact - cos_sum\n",
    "exp_diff = exp_exact - exp_sum\n",
    "\n",
    "# Вывод результатов\n",
    "print(f\"math.sin(x) − sin(x) = {sin_diff:.1e}\")\n",
    "print(f\"math.cos(x) − cos(x) = {cos_diff:.1e}\")\n",
    "print(f\"math.exp(x) − exp(x) = {exp_diff:.1e}\")"
   ]
  },
  {
   "cell_type": "markdown",
   "metadata": {},
   "source": [
    "## ЗАДАНИЕ 4"
   ]
  },
  {
   "cell_type": "markdown",
   "metadata": {},
   "source": [
    "Реализуйте преобразование координат точки на плоскости из декартовой системы координат в полярную. Точка в декартовой системе координат задаётся двумя вещественными числами x и y, которые означают величины проекций точки на оси. \n",
    "\n",
    "Координаты в полярной системе координат:\n",
    "\n",
    "    полярный радиус — расстояние от начала системы координат;\n",
    "    полярный угол — угол, отсчитываемый против часовой стрелки от луча, выходящего из начала системы координат.\n",
    "\n",
    "Преобразование из декартовых координат в полярные выглядит следующим образом:\n",
    "\n",
    "Изображение: Михаил Свинцов\n",
    "\n",
    "При таком преобразовании полярный угол будет находиться в промежутке ‌[-пи, пи]                              \n",
    "\n",
    "Входные данные\n",
    "\n",
    "Введите декартовы координаты в виде x;y: 10;-33\n",
    "\n",
    "Вывод программы\n",
    "\n",
    "Полярный радиус: radius=34.482\n",
    "Полярный угол: phi=-1.277"
   ]
  },
  {
   "cell_type": "code",
   "execution_count": null,
   "metadata": {},
   "outputs": [],
   "source": [
    "import math\n",
    "\n",
    "# Ввод данных\n",
    "input_data = input(\"Введите декартовы координаты в виде x;y: \")\n",
    "x, y = map(float, input_data.split(';'))\n",
    "\n",
    "# Вычисление полярного радиуса\n",
    "radius = math.sqrt(x**2 + y**2)\n",
    "\n",
    "# Вычисление полярного угла\n",
    "if x > 0:\n",
    "    phi = math.atan(y / x)\n",
    "elif x < 0 and y >= 0:\n",
    "    phi = math.atan(y / x) + math.pi\n",
    "elif x < 0 and y < 0:\n",
    "    phi = math.atan(y / x) - math.pi\n",
    "elif x == 0 and y > 0:\n",
    "    phi = math.pi / 2\n",
    "elif x == 0 and y < 0:\n",
    "    phi = -math.pi / 2\n",
    "else:\n",
    "    # Случай (x == 0 and y == 0): угол не определён\n",
    "    phi = 0  # Можно выбрать любое значение, например, 0\n",
    "\n",
    "# Вывод результатов\n",
    "print(f\"Полярный радиус: radius={radius:.3f}\")\n",
    "print(f\"Полярный угол: phi={phi:.3f}\")"
   ]
  },
  {
   "cell_type": "markdown",
   "metadata": {},
   "source": [
    "## ЗАДАНИЕ 5"
   ]
  },
  {
   "cell_type": "markdown",
   "metadata": {},
   "source": [
    "Вам дан список молекул и их атомная масса:\n",
    "\n",
    "    H (водород) — 1.008\n",
    "    O (кислород) — 15.999;\n",
    "    S (сера) — 32.066;\n",
    "    Na (натрий) — 22.990;\n",
    "    Cl (хлор) — 35.453;\n",
    "    K (калий) — 39.098. \n",
    "\n",
    "Посчитайте молярную массу молекул, используя методы функционального программирования. Выведите значения в порядке возрастания молярной массы.\n",
    "\n",
    "Входные данные\n",
    "\n",
    "['H2-S-O4', 'H2-O', 'NA-CL', 'H-CL', 'K-CL']\n",
    "\n",
    "Вывод программы\n",
    "\n",
    "H2-O       18.015\n",
    "H-CL       36.461\n",
    "NA-CL      58.443\n",
    "K-CL       74.551\n",
    "H2-S-O4    98.078\n",
    "\n",
    "Рекомендации\n",
    "\n",
    "    Входные данные можно сразу реализовать в виде списка в коде программы.\n",
    "    Атомные массы удобно хранить в виде словаря."
   ]
  },
  {
   "cell_type": "code",
   "execution_count": null,
   "metadata": {},
   "outputs": [],
   "source": [
    "from functools import reduce\n",
    "\n",
    "# Словарь атомных масс\n",
    "atomic_masses = {\n",
    "    'H': 1.008,\n",
    "    'O': 15.999,\n",
    "    'S': 32.066,\n",
    "    'NA': 22.990,  # Обратите внимание на NA вместо Na\n",
    "    'CL': 35.453,   # И CL вместо Cl\n",
    "    'K': 39.098\n",
    "}\n",
    "\n",
    "# Список молекул\n",
    "molecules = ['H2-S-O4', 'H2-O', 'NA-CL', 'H-CL', 'K-CL']\n",
    "\n",
    "def parse_molecule(molecule):\n",
    "    \"\"\"Разбирает молекулу на атомы и их количество\"\"\"\n",
    "    atoms = []\n",
    "    for part in molecule.split('-'):\n",
    "        # Обрабатываем случаи типа H2, O4\n",
    "        element = ''\n",
    "        number = ''\n",
    "        for char in part:\n",
    "            if char.isalpha():\n",
    "                element += char.upper()\n",
    "            else:\n",
    "                number += char\n",
    "        count = int(number) if number else 1\n",
    "        atoms.append((element, count))\n",
    "    return atoms\n",
    "\n",
    "def calculate_mass(molecule):\n",
    "    \"\"\"Вычисляет молярную массу молекулы\"\"\"\n",
    "    atoms = parse_molecule(molecule)\n",
    "    return reduce(lambda acc, x: acc + atomic_masses[x[0]] * x[1], atoms, 0)\n",
    "\n",
    "# Вычисляем массы для всех молекул и сортируем по массе\n",
    "molecule_masses = [(mol, calculate_mass(mol)) for mol in molecules]\n",
    "sorted_molecules = sorted(molecule_masses, key=lambda x: x[1])\n",
    "\n",
    "# Выводим результаты\n",
    "for molecule, mass in sorted_molecules:\n",
    "    print(f\"{molecule:<10}{mass:.3f}\")"
   ]
  },
  {
   "cell_type": "markdown",
   "metadata": {},
   "source": [
    "## ЗАДАНИЕ 6"
   ]
  },
  {
   "cell_type": "markdown",
   "metadata": {},
   "source": [
    "Расширим возможности калькулятора, который вы делали в первом модуле, и модифицируем логику обработки выражений. Теперь будем собирать возникающие исключения с помощью системы логирования. \n",
    "\n",
    "Калькулятор должен поддерживать четыре операции: сложение (+), умножение (×), вычитание (−), деление (÷), определённые с целыми числами и числами с плавающей точкой, а также должен быть толерантен к пробелам, то есть между операндами и числами может быть неограниченное число пробелов.\n",
    "\n",
    "Для обработки выражений реализуйте функциональный подход: создайте функцию для каждой операции и используйте её как объект.\n",
    "Как работает калькулятор\n",
    "\n",
    "Вы указываете имя файла, содержащего выражения, которые нужно вычислить. Одно выражение — одна строка.\n",
    "\n",
    "Если в выражении есть ошибки, калькулятор запоминает номера строк, в которых они встретились, и выводит ошибки в консоль и файл. \n",
    "\n",
    "Калькулятору также необходимо вывести номер строки с результатами вычисления и результат вычисления. В файл logs.log необходимо вывести лог ошибок, в котором также записать номер строки, в котором встретилась ошибка, и её тип. \n",
    "\n",
    "Входные данные\n",
    "\n",
    "exprs.txt\n",
    "\n",
    "2 + 3\n",
    "\n",
    "-2 -3\n",
    "\n",
    "-5,2   * 4\n",
    "\n",
    "-5.2 *4\n",
    "\n",
    "a+ 5\n",
    "\n",
    "Вывод программы\n",
    "\n",
    "results.txt\n",
    "1 5.0\n",
    "2 -5.0\n",
    "4 -20.8\n",
    "logs.log\n",
    "2023-08-12 14:08:12.806 | ERROR    | __main__:<module>:69 - Line #3: could not convert string to float: '-5,2'\n",
    "2023-08-12 14:08:12.806 | ERROR    | __main__:<module>:69 - Line #5: Пустая строка\n",
    "2023-08-12 14:08:12.806 | ERROR    | __main__:<module>:69 - Line #6: could not convert string to float: 'a'\n",
    "\n",
    "Рекомендации\n",
    "\n",
    "    Для логирования можно использовать пакеты loguru или logging.\n",
    "    Обратите внимание на обработку отрицательных чисел: разделение строки по сепаратору «-» может привести к неожиданным результатам."
   ]
  },
  {
   "cell_type": "code",
   "execution_count": 52,
   "metadata": {},
   "outputs": [
    {
     "name": "stdout",
     "output_type": "stream",
     "text": [
      "\n",
      "Результаты записаны в файл results.txt.\n",
      "Число ошибок: 2. Смотрите файл logs.log для деталей.\n"
     ]
    }
   ],
   "source": [
    "import logging\n",
    "from functools import reduce\n",
    "import re\n",
    "\n",
    "# Настройка логирования\n",
    "logging.basicConfig(\n",
    "    filename='logs.log',\n",
    "    level=logging.ERROR,\n",
    "    format='%(asctime)s | %(levelname)s | %(message)s'\n",
    ")\n",
    "\n",
    "# Функции для операций\n",
    "def add(a, b):\n",
    "    return a + b\n",
    "\n",
    "def subtract(a, b):\n",
    "    return a - b\n",
    "\n",
    "def multiply(a, b):\n",
    "    return a * b\n",
    "\n",
    "def divide(a, b):\n",
    "    if b == 0:\n",
    "        raise ZeroDivisionError(\"Деление на ноль\")\n",
    "    return a / b\n",
    "\n",
    "# Словарь операций\n",
    "OPERATIONS = {\n",
    "    '+': add,\n",
    "    '-': subtract,\n",
    "    '*': multiply,\n",
    "    '×': multiply,\n",
    "    '/': divide,\n",
    "    '÷': divide\n",
    "}\n",
    "\n",
    "# Функция для чтения выражений из файла\n",
    "def read_expressions(file_path):\n",
    "    with open(file_path, 'r', encoding='utf-8') as file:\n",
    "        return [line.strip() for line in file.readlines()]\n",
    "\n",
    "# Функция для записи результатов в файл\n",
    "def write_to_file(file_path, lines):\n",
    "    with open(file_path, 'w', encoding='utf-8') as file:\n",
    "        for line in lines:\n",
    "            file.write(line + '\\n')\n",
    "\n",
    "# Функция для разбора выражения\n",
    "def parse_expression(expression):\n",
    "    # Регулярное выражение для разбора выражений\n",
    "    pattern = r'([+-]?\\d+\\.?\\d*)([+\\-*/×÷])([+-]?\\d+\\.?\\d*)'\n",
    "    match = re.match(pattern, expression)\n",
    "    if not match:\n",
    "        raise ValueError(f\"Неверный формат выражения: {expression}\")\n",
    "    \n",
    "    # Извлекаем операнды и оператор\n",
    "    a, op, b = match.groups()\n",
    "    try:\n",
    "        a = float(a)\n",
    "        b = float(b)\n",
    "    except ValueError:\n",
    "        raise ValueError(f\"Ошибка преобразования числа: {expression}\")\n",
    "    return op, a, b\n",
    "\n",
    "# Функция для обработки одного выражения\n",
    "def evaluate_expression(expression, line_number, results, errors):\n",
    "    try:\n",
    "        # Убираем лишние пробелы\n",
    "        expression = expression.replace(' ', '')\n",
    "        \n",
    "        # Пропускаем пустые строки\n",
    "        if not expression.strip():\n",
    "            return\n",
    "        \n",
    "        # Разбираем выражение\n",
    "        op, a, b = parse_expression(expression)\n",
    "        \n",
    "        # Выполняем операцию\n",
    "        result = OPERATIONS[op](a, b)\n",
    "        results.append(f\"{line_number} {result}\")\n",
    "    \n",
    "    except Exception as e:\n",
    "        errors.append(f\"{line_number} {str(e)}\")\n",
    "        logging.error(f\"Line #{line_number}: {str(e)}\")\n",
    "\n",
    "# Основная функция\n",
    "def main():\n",
    "    input_file = 'exprs.txt'\n",
    "    results_file = 'results.txt'\n",
    "    errors_file = 'errors.txt'\n",
    "\n",
    "    # Чтение выражений\n",
    "    expressions = read_expressions(input_file)\n",
    "    results = []\n",
    "    errors = []\n",
    "\n",
    "    # Обработка выражений\n",
    "    for line_number, expression in enumerate(expressions, start=1):\n",
    "        evaluate_expression(expression, line_number, results, errors)\n",
    "\n",
    "    # Запись результатов\n",
    "    write_to_file(results_file, results)\n",
    "\n",
    "    print(\"\\nРезультаты записаны в файл results.txt.\")\n",
    "    print(f\"Число ошибок: {len(errors)}. Смотрите файл logs.log для деталей.\")\n",
    "\n",
    "# Запуск программы\n",
    "if __name__ == \"__main__\":\n",
    "    main()"
   ]
  },
  {
   "cell_type": "markdown",
   "metadata": {},
   "source": [
    "## ЗАДАНИЕ 7"
   ]
  },
  {
   "cell_type": "markdown",
   "metadata": {},
   "source": [
    "Реализуйте «Шифр Цезаря»:\n",
    "\n",
    "    вводим с клавиатуры размер смещения, оно может быть отрицательным и положительным;\n",
    "    вводим с клавиатуры текст сообщения;\n",
    "    на экран выводится шифрованное сообщение и результат расшифровки.\n",
    "\n",
    "Входные данные\n",
    "\n",
    "Введите смещение: 31\n",
    "\n",
    "Введите сообщение: Привет, мир!\n",
    "\n",
    "Вывод программы\n",
    "\n",
    "Шифрованное сообщение: Ножагр, кжо!\n",
    "Расшифрованное сообщение: Привет, мир!\n",
    "\n",
    "\n",
    "Входные данные\n",
    "\n",
    "Введите смещение: 9\n",
    "\n",
    "Введите сообщение: Как дела, Петя?\n",
    "\n",
    "Вывод программы\n",
    "\n",
    "Шифрованное сообщение: Уиу мнфи, Шныз?\n",
    "Расшифрованное сообщение: Как дела, Петя?"
   ]
  },
  {
   "cell_type": "code",
   "execution_count": 51,
   "metadata": {},
   "outputs": [
    {
     "name": "stdin",
     "output_type": "stream",
     "text": [
      "Введите смещение:  9\n",
      "Введите сообщение:  Как дела, Петя?\n"
     ]
    },
    {
     "name": "stdout",
     "output_type": "stream",
     "text": [
      "Шифрованное сообщение: Уиу мнфи, Шныз?\n",
      "Расшифрованное сообщение: Как дела, Петя?\n"
     ]
    }
   ],
   "source": [
    "def caesar_cipher(text: str, shift: int) -> str:\n",
    "    \"\"\"Шифрует/дешифрует текст шифром Цезаря с поддержкой всех русских букв\"\"\"\n",
    "    ru_upper = 'АБВГДЕЁЖЗИЙКЛМНОПРСТУФХЦЧШЩЪЫЬЭЮЯ'\n",
    "    ru_lower = 'абвгдеёжзийклмнопрстуфхцчшщъыьэюя'\n",
    "    result = []\n",
    "    \n",
    "    for char in text:\n",
    "        if char in ru_upper:\n",
    "            index = (ru_upper.index(char) + shift) % 33\n",
    "            result.append(ru_upper[index])\n",
    "        elif char in ru_lower:\n",
    "            index = (ru_lower.index(char) + shift) % 33\n",
    "            result.append(ru_lower[index])\n",
    "        else:\n",
    "            result.append(char)\n",
    "    return ''.join(result)\n",
    "\n",
    "def main():\n",
    "    try:\n",
    "        # Ввод данных\n",
    "        shift = int(input(\"Введите смещение: \"))\n",
    "        message = input(\"Введите сообщение: \")\n",
    "        \n",
    "        # Шифрование\n",
    "        encrypted = caesar_cipher(message, shift)\n",
    "        print(f\"Шифрованное сообщение: {encrypted}\")\n",
    "        \n",
    "        # Дешифровка (обратное смещение)\n",
    "        decrypted = caesar_cipher(encrypted, -shift)\n",
    "        print(f\"Расшифрованное сообщение: {decrypted}\")\n",
    "    \n",
    "    except ValueError:\n",
    "        print(\"Ошибка: смещение должно быть целым числом\")\n",
    "\n",
    "if __name__ == \"__main__\":\n",
    "    main()"
   ]
  },
  {
   "cell_type": "markdown",
   "metadata": {},
   "source": [
    "## ЗАДАНИЕ 8"
   ]
  },
  {
   "cell_type": "markdown",
   "metadata": {},
   "source": [
    "Дан файл системы контроля спорткомплекса. Вам нужно:\n",
    "\n",
    "    Прочитать файл (поля в файле разделены символом табуляции «\\t»).\n",
    "    Вычислить время, проведённое спортсменом в бассейне (разница между временем входа и выхода из бассейна).\n",
    "    Рассчитать время, проведённое в комплексе (время между входом и выходом в комплекс).\n",
    "    Вывести в отдельный файл с логами в случае, если данные о выходе спортсмена отсутствуют, а также в случае обнаружения ошибок или неточностей в записях (отсутствие времени входа, выхода, противоречия в записях).\n",
    "\n",
    "Вывод программы\n",
    "\n",
    "Атлет 10011 провёл в Pool-2: 225 мин.\n",
    "Атлет 10013 провёл в Center: 195 мин.\n",
    "Атлет 10011 провёл в Pool-2: 175 мин.\n",
    "Атлет 10017 провёл в Pool-2: 152 мин.\n",
    "\n",
    "logs.log\n",
    "2023-08-12 20:05:34.082 | DEBUG    | __main__:<module>:24 - Не зафиксировано время входа атлета 10001 в Pool-1\n",
    "2023-08-12 20:05:34.082 | DEBUG    | __main__:<module>:24 - Не зафиксировано время входа атлета 10001 в Pool-1\n",
    "2023-08-12 20:05:34.083 | DEBUG    | __main__:<module>:14 - Не зафиксировано время выхода атлета 10019 из Pool-2\n",
    "2023-08-12 20:05:34.083 | DEBUG    | __main__:<module>:24 - Не зафиксировано время входа атлета 10018 в Pool-1\n",
    "2023-08-12 20:05:34.083 | DEBUG    | __main__:<module>:24 - Не зафиксировано время входа атлета 10020 в Pool-2\n",
    "2023-08-12 20:05:34.083 | DEBUG    | __main__:<module>:26 - Не зафиксировано время выхода атлета 10019 из Pool-2\n",
    "2023-08-12 20:05:34.083 | DEBUG    | __main__:<module>:26 - Не зафиксировано время выхода атлета 10011 из Pool-1\n",
    "2023-08-12 20:05:34.083 | DEBUG    | __main__:<module>:26 - Не зафиксировано время выхода атлета 10011 из Center\n",
    "2023-08-12 20:05:34.083 | DEBUG    | __main__:<module>:26 - Не зафиксировано время выхода атлета 10017 из Center"
   ]
  },
  {
   "cell_type": "code",
   "execution_count": 48,
   "metadata": {},
   "outputs": [
    {
     "name": "stdout",
     "output_type": "stream",
     "text": [
      "Атлет 10011 провёл в Pool-2: 174 мин.\n",
      "Атлет 10011 провёл в Pool-2: 224 мин.\n",
      "Атлет 10017 провёл в Pool-2: 151 мин.\n"
     ]
    }
   ],
   "source": [
    "import csv\n",
    "import logging\n",
    "from datetime import datetime\n",
    "\n",
    "# Настройка логирования (только в файл)\n",
    "log_file_path = 'logs2.log'  # Явное указание файла для логов\n",
    "logger = logging.getLogger('CustomLogger')  # Создаем отдельный логгер\n",
    "logger.setLevel(logging.DEBUG)  # Устанавливаем уровень логирования\n",
    "\n",
    "# Очистка предыдущих обработчиков\n",
    "for handler in logging.root.handlers[:]:\n",
    "    logging.root.removeHandler(handler)\n",
    "\n",
    "# Создаем файловый обработчик\n",
    "file_handler = logging.FileHandler(log_file_path, mode='w', encoding='utf-8')\n",
    "file_handler.setLevel(logging.DEBUG)\n",
    "\n",
    "# Формат логов\n",
    "formatter = logging.Formatter('%(asctime)s | %(levelname)-8s | %(message)s', datefmt='%Y-%m-%d %H:%M:%S')\n",
    "file_handler.setFormatter(formatter)\n",
    "\n",
    "# Добавляем обработчик к логгеру\n",
    "logger.addHandler(file_handler)\n",
    "\n",
    "def parse_time(time_str):\n",
    "    \"\"\"Парсинг времени из строки в datetime\"\"\"\n",
    "    if not time_str or time_str.strip().lower() in ('null', 'none', ''):\n",
    "        return None\n",
    "    try:\n",
    "        return datetime.strptime(time_str.strip(), '%d/%m/%Y %H:%M:%S')\n",
    "    except ValueError as e:\n",
    "        logger.error(f\"Ошибка формата времени: {time_str} ({str(e)})\")\n",
    "        return None\n",
    "\n",
    "def calculate_duration(start, end):\n",
    "    \"\"\"Вычисление продолжительности в минутах\"\"\"\n",
    "    if not start or not end:\n",
    "        return 0\n",
    "    return int((end - start).total_seconds() // 60)\n",
    "\n",
    "def process_records(file_path):\n",
    "    \"\"\"Обработка записей из файла\"\"\"\n",
    "    athletes = {}\n",
    "    results = []\n",
    "\n",
    "    try:\n",
    "        with open(file_path, 'r', encoding='utf-8') as csvfile:\n",
    "            reader = csv.DictReader(csvfile, delimiter=',')\n",
    "            \n",
    "            # Проверка заголовков\n",
    "            if reader.fieldnames != ['Date', 'Athlete ID', 'Location', 'Type']:\n",
    "                logger.error(\"Неверный формат заголовков CSV\")\n",
    "                return\n",
    "\n",
    "            for row in reader:\n",
    "                athlete_id = row['Athlete ID'].strip()\n",
    "                location = row['Location'].strip()\n",
    "                event_type = row['Type'].strip().capitalize()\n",
    "                time = parse_time(row['Date'])\n",
    "\n",
    "                if not athlete_id.isdigit() or not time:\n",
    "                    continue\n",
    "\n",
    "                # Инициализация данных атлета\n",
    "                if athlete_id not in athletes:\n",
    "                    athletes[athlete_id] = {'pools': {}, 'center_entry': None}\n",
    "\n",
    "                # Обработка бассейнов\n",
    "                if 'Pool' in location:\n",
    "                    if event_type == 'In':\n",
    "                        athletes[athlete_id]['pools'][location] = {'enter': time}\n",
    "                        logger.debug(f\"Атлет {athlete_id} вошел в {location}\")\n",
    "                    elif event_type == 'Out':\n",
    "                        if location in athletes[athlete_id]['pools']:\n",
    "                            start_time = athletes[athlete_id]['pools'][location].get('enter')\n",
    "                            duration = calculate_duration(start_time, time)\n",
    "                            results.append(f\"Атлет {athlete_id} провёл в {location}: {duration} мин.\")\n",
    "                            del athletes[athlete_id]['pools'][location]\n",
    "                        else:\n",
    "                            logger.debug(f\"Не зафиксировано время входа атлета {athlete_id} в {location}\")\n",
    "\n",
    "                # Обработка центра\n",
    "                elif location == 'Center':\n",
    "                    if event_type == 'In':\n",
    "                        athletes[athlete_id]['center_entry'] = time\n",
    "                        logger.debug(f\"Атлет {athlete_id} вошел в Center\")\n",
    "                    elif event_type == 'Out':\n",
    "                        if athletes[athlete_id]['center_entry']:\n",
    "                            duration = calculate_duration(athletes[athlete_id]['center_entry'], time)\n",
    "                            results.append(f\"Атлет {athlete_id} провёл в Center: {duration} мин.\")\n",
    "                            athletes[athlete_id]['center_entry'] = None\n",
    "                        else:\n",
    "                            logger.debug(f\"Не зафиксировано время входа атлета {athlete_id} в Center\")\n",
    "\n",
    "        # Логирование незавершенных сессий\n",
    "        for athlete_id, data in athletes.items():\n",
    "            for pool, times in data['pools'].items():\n",
    "                if 'enter' in times:\n",
    "                    logger.debug(f\"Не зафиксировано время выхода атлета {athlete_id} из {pool}\")\n",
    "            if data['center_entry']:\n",
    "                logger.debug(f\"Не зафиксировано время выхода атлета {athlete_id} из Center\")\n",
    "\n",
    "        # Вывод результатов в консоль\n",
    "        for result in sorted(results):\n",
    "            print(result)\n",
    "\n",
    "    except FileNotFoundError:\n",
    "        logger.error(f\"Файл не найден: {file_path}\")\n",
    "    except Exception as e:\n",
    "        logger.error(f\"Критическая ошибка: {str(e)}\", exc_info=True)\n",
    "\n",
    "if __name__ == \"__main__\":\n",
    "    process_records('activity.csv')\n",
    "    logging.shutdown()"
   ]
  },
  {
   "cell_type": "code",
   "execution_count": null,
   "metadata": {},
   "outputs": [],
   "source": []
  }
 ],
 "metadata": {
  "colab": {
   "include_colab_link": true,
   "provenance": []
  },
  "kernelspec": {
   "display_name": "Python 3 (ipykernel)",
   "language": "python",
   "name": "python3"
  },
  "language_info": {
   "codemirror_mode": {
    "name": "ipython",
    "version": 3
   },
   "file_extension": ".py",
   "mimetype": "text/x-python",
   "name": "python",
   "nbconvert_exporter": "python",
   "pygments_lexer": "ipython3",
   "version": "3.8.10"
  }
 },
 "nbformat": 4,
 "nbformat_minor": 4
}
