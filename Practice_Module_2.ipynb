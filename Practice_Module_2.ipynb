{
  "nbformat": 4,
  "nbformat_minor": 0,
  "metadata": {
    "colab": {
      "provenance": [],
      "include_colab_link": true
    },
    "kernelspec": {
      "name": "python3",
      "display_name": "Python 3"
    },
    "language_info": {
      "name": "python"
    }
  },
  "cells": [
    {
      "cell_type": "markdown",
      "metadata": {
        "id": "view-in-github",
        "colab_type": "text"
      },
      "source": [
        "<a href=\"https://colab.research.google.com/github/Gibrin/Drone-Programming/blob/main/Practice_Module_2.ipynb\" target=\"_parent\"><img src=\"https://colab.research.google.com/assets/colab-badge.svg\" alt=\"Open In Colab\"/></a>"
      ]
    },
    {
      "cell_type": "markdown",
      "source": [
        "## Практика. Модуль 2\n",
        "\n",
        "Давайте обратимся к практическим аспектам, которые мы рассмотрели в этом модуле. Для этого поэтапно реализуем класс Wallet, который представляет собой объекты вида «Кошелёк». В объекте-кошельке будем хранить имя владельца, а также денежные средства в различных валютах.\n",
        "\n",
        "Для начала опишем атрибуты и методы класса:\n",
        "* атрибут owner_name: имя владельца;\n",
        "* атрибут assets типа dict: активы человека в различных валютах.\n",
        "\n",
        "Пример:\n",
        "\n",
        "assets = {'RUB': 0.0, 'USD': 0.0, 'EUR': 0.0}\n",
        "* метод $__init__$: инициализация кошелька;\n",
        "* метод $__float__$: нахождение общей стоимости активов в рублях;\n",
        "* метод $__int__$: количество активов с ненулевой стоимостью;\n",
        "* метод $__bool__$: возвращает True, если **все** активы имеют ненулевой баланс;\n",
        "* метод $__eq__$: возвращает True, если у сравниваемых кошельков self и other одинаковая стоимость активов (в рублях);\n",
        "* метод $__lt__$: возвращает True, если стоимость активов self меньше, чем стоимость активов other (в рублях);\n",
        "* метод $__gt__$: возвращает True, если стоимость активов self больше, чем стоимость активов other (в рублях);\n",
        "* метод $__sub__$: вычитание кортежа вида ('RUB', 100), при котором из актива RUB вычитается 100 единиц;\n",
        "* метод $__add__$: позволяет добавить кортеж вида ('RUB', 100) и тем самым увеличить актив RUB на 100 единиц; второй вариант использования — объединение двух кошельков self и other, при котором новый кошелёк принадлежит владельцу self, а активы суммируются из обоих кошельков;\n",
        "* метод $__iter__$: возвращает итератор списка кортежей, состоящий из активов, упорядоченных по возрастанию стоимости (в рублях);\n",
        "* метод $__getitem__$: возвращает размер актива по ключу вида self['RUB'];\n",
        "* метод $__setitem__$: позволяет установить размер актива путём присваивания вида self['RUB']=100.\n",
        "\n",
        "В ходе реализации этих методов мы ещё раз вернёмся к основам объектно-ориентированного программирования и возможностям Python в рамках парадигмы функционального программирования, а также поработаем с последовательностями и их обработкой."
      ],
      "metadata": {
        "id": "gNJRMIiwiCNh"
      }
    },
    {
      "cell_type": "code",
      "source": [
        "class Wallet:\n",
        "  convert = {'RUB': 1, 'USD': 62.1, 'EUR': 69.7}  # по состоянию на 1 января 2020 г.\n",
        "\n",
        "  def __init__(self, owner_name, RUB=0.0, USD=0.0, EUR=0.0):\n",
        "    self.__owner_name = owner_name\n",
        "\n",
        "    # необходимо вставить свой код (Задание 1)\n",
        "\n",
        "  def __iter__(self):\n",
        "    # необходимо вставить свой код (Задание 2)\n",
        "    pass\n",
        "\n",
        "  def __str__(self):\n",
        "    # необходимо вставить свой код (Задание 3)\n",
        "    pass\n",
        "\n",
        "  def __float__(self):\n",
        "    # необходимо вставить свой код (Задание 4)\n",
        "    pass\n",
        "\n",
        "  def __int__(self):\n",
        "    # необходимо вставить свой код (Задание 5)\n",
        "    pass\n",
        "\n",
        "  def __bool__(self):\n",
        "    # необходимо вставить свой код (Задание 6)\n",
        "    pass\n",
        "\n",
        "  def __eq__(self, other):\n",
        "    # необходимо вставить свой код (Задание 7)\n",
        "    pass\n",
        "\n",
        "  def __lt__(self, other):\n",
        "    # необходимо вставить свой код (Задание 7)\n",
        "    pass\n",
        "\n",
        "  def __gt__(self, other):\n",
        "    # необходимо вставить свой код (Задание 7)\n",
        "    pass\n",
        "\n",
        "  def __sub__(self, other):\n",
        "    # необходимо вставить свой код (Задание 8)\n",
        "    pass\n",
        "\n",
        "  def __add__(self, other):\n",
        "    # необходимо вставить свой код (Задание 9)\n",
        "    pass\n",
        "\n",
        "  def __getitem__(self, key):\n",
        "    # необходимо вставить свой код (Задание 10)\n",
        "    pass\n",
        "\n",
        "  def __setitem__(self, key, value):\n",
        "    # необходимо вставить свой код (Задание 10)\n",
        "    pass"
      ],
      "metadata": {
        "id": "gzyO2n9Ss8Ar"
      },
      "execution_count": null,
      "outputs": []
    },
    {
      "cell_type": "markdown",
      "source": [
        "## Задание 1. Инициализация\n",
        "\n",
        "Сначала создадим метод инициализации объекта Wallet. В конструкторе проверим, что в аргументе owner_name находится строка, а также атрибуту assets присвоим словарь в соответствии с описанием из начала этого jupyter notebook.\n",
        "\n",
        "Если в аргументе owner_name указана не строковая переменная, то необходимо вызвать исключение ValueError с текстом \"Имя владельца должно быть строковым типом\".\n",
        "\n",
        "Добавьте код в метод $__init__()$ и запустите ячейку ниже."
      ],
      "metadata": {
        "id": "LH0493FfqMoe"
      }
    },
    {
      "cell_type": "code",
      "execution_count": null,
      "metadata": {
        "id": "0Maarqcth73w"
      },
      "outputs": [],
      "source": [
        "ivan_wallet = Wallet(owner_name=\"Иван Иванов\")\n",
        "petr_wallet = Wallet(owner_name=\"Петр Петров\",\n",
        "                     RUB = 50000,\n",
        "                     USD = 250,\n",
        "                     EUR = 900)\n",
        "alex_wallet = Wallet(owner_name=\"Алексей Алексеев\",\n",
        "                     RUB = 100000,\n",
        "                     USD = 0,\n",
        "                     EUR = 0)\n",
        "print(petr_wallet.assets)"
      ]
    },
    {
      "cell_type": "markdown",
      "source": [
        "Вывод этой ячейки должен быть:\n",
        "\n",
        "{'RUB': 50000, 'USD': 250, 'EUR': 300}"
      ],
      "metadata": {
        "id": "JnSKPWKz6ZpS"
      }
    },
    {
      "cell_type": "code",
      "source": [
        "error_wallet = Wallet(owner_name=[\"Сергей\", \"Сергеев\"],\n",
        "                     RUB = 20000,\n",
        "                     USD = 400,\n",
        "                     EUR = 170)"
      ],
      "metadata": {
        "id": "70O56MUQ7D1L"
      },
      "execution_count": null,
      "outputs": []
    },
    {
      "cell_type": "markdown",
      "source": [
        "После запуска ячейки вы должны увидеть исключение ValueError."
      ],
      "metadata": {
        "id": "1T-iY7ju7XQ5"
      }
    },
    {
      "cell_type": "markdown",
      "source": [
        "## Задание 2. Итераторы\n",
        "\n",
        "Создайте итератор кошелька, который будет возвращать кортежи из двух элементов (актив, размер актива). Для этого воспользуйтесь компактной записью генератора.\n",
        "\n",
        "\n",
        "Добавьте код в метод $__iter__()$ и запустите ячейку ниже."
      ],
      "metadata": {
        "id": "zxB2sSs56YiP"
      }
    },
    {
      "cell_type": "code",
      "source": [
        "for asset, size in petr_wallet:\n",
        "  print(f\"Asset: {asset}. Size: {size}\")"
      ],
      "metadata": {
        "id": "2shPcmgQYMcE"
      },
      "execution_count": null,
      "outputs": []
    },
    {
      "cell_type": "markdown",
      "source": [
        "Вывод ячейки должен быть следующим:\n",
        "\n",
        "Asset: RUB. Size: 50000\n",
        "\n",
        "Asset: USD. Size: 250\n",
        "\n",
        "Asset: EUE. Size: 900"
      ],
      "metadata": {
        "id": "GIVumF2nYYoV"
      }
    },
    {
      "cell_type": "markdown",
      "source": [
        "## Задание 3. Преобразование к строкам\n",
        "\n",
        "Реализуйте функцию получения строкового представления объекта-кошелька.\n",
        "\n",
        "\n",
        "Добавьте код в метод $__str__()$ и запустите ячейку ниже."
      ],
      "metadata": {
        "id": "VYp4W7Y1YpC1"
      }
    },
    {
      "cell_type": "code",
      "source": [
        "print(str(petr_wallet))"
      ],
      "metadata": {
        "id": "_gRf8k1gYn_s"
      },
      "execution_count": null,
      "outputs": []
    },
    {
      "cell_type": "markdown",
      "source": [
        "Вывод ячейки должен быть следующим:\n",
        "\n",
        "Петр Петров: 50000 RUB, 250 USD, 900 EUR"
      ],
      "metadata": {
        "id": "KH9DEytkZH_k"
      }
    },
    {
      "cell_type": "markdown",
      "source": [
        "## Задание 4. Преобразование к числам с плавающей точкой\n",
        "\n",
        "Теперь преобразуем наш объект-кошелёк в число с плавающей точкой. Для этого нам необходимо найти общую стоимость активов, конвертированных в рубли. Курс конвертации хранится в переменной convert класса Wallet.\n",
        "\n",
        "\n",
        "\n",
        "Добавьте код в метод $__float__()$ и запустите ячейку ниже."
      ],
      "metadata": {
        "id": "TnAx8FA4ZX66"
      }
    },
    {
      "cell_type": "code",
      "source": [
        "print(float(petr_wallet))"
      ],
      "metadata": {
        "id": "AjfLFQrSbeHV"
      },
      "execution_count": null,
      "outputs": []
    },
    {
      "cell_type": "markdown",
      "source": [
        "Вывод ячейки должен быть: 128255.0"
      ],
      "metadata": {
        "id": "QgLl42_mbsJO"
      }
    },
    {
      "cell_type": "markdown",
      "source": [
        "## Задание 5. Преобразование к целым числам\n",
        "\n",
        "Для преобразования объекта-кошелька к целым числам найдём количество активов с ненулевым объёмом средств на кошельке.\n",
        "\n",
        "\n",
        "\n",
        "Добавьте код в метод $__int__()$ и запустите ячейку ниже."
      ],
      "metadata": {
        "id": "kvDtWbOkWlQW"
      }
    },
    {
      "cell_type": "code",
      "source": [
        "print(int(alex_wallet))"
      ],
      "metadata": {
        "id": "iQMdIIEVbqcp"
      },
      "execution_count": null,
      "outputs": []
    },
    {
      "cell_type": "markdown",
      "source": [
        "Вывод ячейки должен быть: 1"
      ],
      "metadata": {
        "id": "V-Tjmac4XBrr"
      }
    },
    {
      "cell_type": "markdown",
      "source": [
        "## Задание 6. Преобразование к булевым значениям\n",
        "\n",
        "Теперь преобразуем объект-кошелёк к булевым значениям True и False. Будем возвращать True, если все активы в кошельке имеют ненулевой объём.\n",
        "\n",
        "\n",
        "\n",
        "Добавьте код в метод $__bool__()$ и запустите ячейку ниже."
      ],
      "metadata": {
        "id": "07A696wDXHpt"
      }
    },
    {
      "cell_type": "code",
      "source": [
        "print(bool(petr_wallet))\n",
        "print(bool(alex_wallet))"
      ],
      "metadata": {
        "id": "Au7xZbs7XF9w"
      },
      "execution_count": null,
      "outputs": []
    },
    {
      "cell_type": "markdown",
      "source": [
        "Вывод ячейки должен быть:\n",
        "\n",
        "True\n",
        "\n",
        "False"
      ],
      "metadata": {
        "id": "jcP0p-3pYDpB"
      }
    },
    {
      "cell_type": "markdown",
      "source": [
        "## Задание 7. Сравнение кошельков\n",
        "\n",
        "Чтобы сравнить кошельки, необходимо сравнить количество денежных средств в них. Мы уже создали функцию, которая позволяет вычислить стоимость всех активов в рублях — воспользуемся ей!\n",
        "\n",
        "\n",
        "Добавьте код в методы $__eq__()$, $__lt__()$ и $__gt__()$ и запустите ячейку ниже."
      ],
      "metadata": {
        "id": "4O8YZIGPYJH9"
      }
    },
    {
      "cell_type": "code",
      "source": [
        "print(petr_wallet < alex_wallet)\n",
        "print(petr_wallet == Wallet(\"undefined user\", RUB=128255.0))"
      ],
      "metadata": {
        "id": "UHDz-ecfYG1-"
      },
      "execution_count": null,
      "outputs": []
    },
    {
      "cell_type": "markdown",
      "source": [
        "Вывод ячейки должен быть:\n",
        "\n",
        "False\n",
        "\n",
        "True"
      ],
      "metadata": {
        "id": "r-19xjM2Z3XQ"
      }
    },
    {
      "cell_type": "markdown",
      "source": [
        "## Задание 8. Расходы\n",
        "\n",
        "Теперь реализуем простой интерфейс пользования нашим кошельком и научимся тратить с него деньги. Чтобы вывести из кошелька актив определённого объёма, вычтем из объекта-кошелька кортеж (актив, размер актива).\n",
        "\n",
        "Если размера актива недостаточно, необходимо вывести исключение ValueError с пояснением \"Недостаточно средств\".\n",
        "\n",
        "\n",
        "\n",
        "\n",
        "Добавьте код в метод $__sub__()$ и запустите ячейку ниже."
      ],
      "metadata": {
        "id": "GNe_3WOaZ8yY"
      }
    },
    {
      "cell_type": "code",
      "source": [
        "petr_wallet = petr_wallet - ('USD', 50)\n",
        "print(str(petr_wallet))"
      ],
      "metadata": {
        "id": "I4GAU5fNZ77x"
      },
      "execution_count": null,
      "outputs": []
    },
    {
      "cell_type": "markdown",
      "source": [
        "Вывод ячейки должен быть:\n",
        "\n",
        "Петр Петров: 50000 RUB, 250 USD, 900 EUR\n",
        "\n",
        "\n",
        "А при запуске следующей ячейки мы должны получить ошибку:"
      ],
      "metadata": {
        "id": "uHs3ZkrTa_IJ"
      }
    },
    {
      "cell_type": "code",
      "source": [
        "alex_wallet = alex_wallet - ('USD', 50)"
      ],
      "metadata": {
        "id": "-u6v3Vspa-ew"
      },
      "execution_count": null,
      "outputs": []
    },
    {
      "cell_type": "markdown",
      "source": [
        "## Задание 9. Доходы\n",
        "\n",
        "Чтобы кошелёк не опустел, его нужно пополнять. Определим сложение в двух видах:\n",
        "1. Сложение с кортежем (актив, размер актива). Действует по принципу добавления размера актива к той сумме, которая уже есть в кошельке.\n",
        "2. Объединение кошельков. Все активы правого слагаемого добавим на счёт левого кошелька.\n",
        "\n",
        "\n",
        "\n",
        "\n",
        "Добавьте код в метод $__add__()$ и запустите ячейку ниже."
      ],
      "metadata": {
        "id": "iIyFNUoVbMDj"
      }
    },
    {
      "cell_type": "code",
      "source": [
        "alex_wallet = alex_wallet + ('EUR', 100)\n",
        "petr_wallet = petr_wallet + alex_wallet\n",
        "\n",
        "print(alex_wallet)\n",
        "print(petr_wallet)"
      ],
      "metadata": {
        "id": "T-4YuHAebQbe"
      },
      "execution_count": null,
      "outputs": []
    },
    {
      "cell_type": "markdown",
      "source": [
        "Вывод ячейки должен быть:\n",
        "\n",
        "Алексей Алексеев: 100000 RUB, 0 USD, 100 EUR\n",
        "\n",
        "Петр Петров: 150000 RUB, 200 USD, 1000 EUR"
      ],
      "metadata": {
        "id": "XwwP9QXScILV"
      }
    },
    {
      "cell_type": "markdown",
      "source": [
        "## Задание 10. Быстрый доступ\n",
        "\n",
        "Осталось сделать только одну вещь: настроить быстрый доступ для получения и присваивания размеров активов. Мы хотим пользоваться кошельком как объектом типа «словарь». Реализуйте функции, чтобы вывод ячейки совпадал с описанием ниже.\n",
        "\n",
        "\n",
        "\n",
        "Добавьте код в методы $__getitem__()$ и $__setitem__()$ и запустите ячейку ниже."
      ],
      "metadata": {
        "id": "c1HTw3tDcwQy"
      }
    },
    {
      "cell_type": "code",
      "source": [
        "print(petr_wallet['EUR'])"
      ],
      "metadata": {
        "id": "RthpA90HdOqx"
      },
      "execution_count": null,
      "outputs": []
    },
    {
      "cell_type": "markdown",
      "source": [
        "Вывод ячейки должен быть: 1000"
      ],
      "metadata": {
        "id": "IoPCDneOdU6z"
      }
    },
    {
      "cell_type": "code",
      "source": [
        "alex_wallet['USD'] = 500\n",
        "print(alex_wallet['USD'])"
      ],
      "metadata": {
        "id": "mbnIRSVwdY2B"
      },
      "execution_count": null,
      "outputs": []
    },
    {
      "cell_type": "markdown",
      "source": [
        "Вывод ячейки должен быть: 500"
      ],
      "metadata": {
        "id": "F__Lwlk8dg5A"
      }
    },
    {
      "cell_type": "code",
      "source": [],
      "metadata": {
        "id": "gX4lV4A9dkNG"
      },
      "execution_count": null,
      "outputs": []
    }
  ]
}