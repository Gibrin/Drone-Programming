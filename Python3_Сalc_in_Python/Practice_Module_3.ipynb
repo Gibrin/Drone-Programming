{
 "cells": [
  {
   "cell_type": "markdown",
   "id": "08019f9d-32ad-42dc-aead-cf8bf34668a6",
   "metadata": {},
   "source": [
    "### Задача 1"
   ]
  },
  {
   "cell_type": "code",
   "execution_count": null,
   "id": "663460a9-96f5-4ca2-b93c-7582d24316f0",
   "metadata": {},
   "outputs": [],
   "source": [
    "Найдите определитель матрицы. Используйте символьные вычисления. Если возможно, то приведите решение и с помощью численных методов."
   ]
  },
  {
   "cell_type": "code",
   "execution_count": 99,
   "id": "095ab19b-6fe4-4c11-83f7-530f8d8e52d9",
   "metadata": {},
   "outputs": [
    {
     "name": "stdout",
     "output_type": "stream",
     "text": [
      "Requirement already satisfied: scipy in /home/max/.local/lib/python3.8/site-packages (1.10.1)\n",
      "Requirement already satisfied: numpy<1.27.0,>=1.19.5 in /home/max/.local/lib/python3.8/site-packages (from scipy) (1.24.4)\n"
     ]
    }
   ],
   "source": [
    "!pip install scipy"
   ]
  },
  {
   "cell_type": "code",
   "execution_count": 2,
   "id": "4425347f-f84a-4c7e-9a31-7a28206472ce",
   "metadata": {},
   "outputs": [
    {
     "name": "stdout",
     "output_type": "stream",
     "text": [
      "Collecting sympy\n",
      "  Downloading sympy-1.13.3-py3-none-any.whl (6.2 MB)\n",
      "\u001b[K     |████████████████████████████████| 6.2 MB 137 kB/s eta 0:00:01\n",
      "\u001b[?25hCollecting mpmath<1.4,>=1.1.0\n",
      "  Downloading mpmath-1.3.0-py3-none-any.whl (536 kB)\n",
      "\u001b[K     |████████████████████████████████| 536 kB 305 kB/s eta 0:00:01\n",
      "\u001b[?25hInstalling collected packages: mpmath, sympy\n",
      "Successfully installed mpmath-1.3.0 sympy-1.13.3\n"
     ]
    }
   ],
   "source": [
    "!pip install sympy"
   ]
  },
  {
   "cell_type": "code",
   "execution_count": 4,
   "id": "806cc8b4-3210-4a0f-8ce7-144c00c13bc2",
   "metadata": {},
   "outputs": [],
   "source": [
    "import sympy as sp\n",
    "import numpy as np"
   ]
  },
  {
   "cell_type": "code",
   "execution_count": 5,
   "id": "dea4ca71-3c6b-4aef-930c-ba497a0e4694",
   "metadata": {},
   "outputs": [],
   "source": [
    "alpha, beta, t, a, b = sp.symbols('alpha beta t a b')"
   ]
  },
  {
   "cell_type": "code",
   "execution_count": null,
   "id": "3f29f798-0d3e-4b44-ac90-ad443cc4baf3",
   "metadata": {},
   "outputs": [],
   "source": [
    "Матрица 1"
   ]
  },
  {
   "cell_type": "code",
   "execution_count": 8,
   "id": "b4f7c93a-46f4-4f80-b684-d3fe6c0f3cc0",
   "metadata": {},
   "outputs": [
    {
     "data": {
      "text/latex": [
       "$\\displaystyle \\left[\\begin{matrix}\\cos{\\left(\\alpha \\right)} & \\sin{\\left(\\alpha \\right)}\\\\\\sin{\\left(\\beta \\right)} & \\cos{\\left(\\beta \\right)}\\end{matrix}\\right]$"
      ],
      "text/plain": [
       "Matrix([\n",
       "[cos(alpha), sin(alpha)],\n",
       "[ sin(beta),  cos(beta)]])"
      ]
     },
     "execution_count": 8,
     "metadata": {},
     "output_type": "execute_result"
    }
   ],
   "source": [
    "matrix_1 = sp.Matrix([[sp.cos(alpha), sp.sin(alpha)], [sp.sin(beta), sp.cos(beta)]])\n",
    "matrix_1"
   ]
  },
  {
   "cell_type": "code",
   "execution_count": 9,
   "id": "37ffd0ef-7cfb-4d56-9d9d-b5396934e1a8",
   "metadata": {},
   "outputs": [
    {
     "data": {
      "text/latex": [
       "$\\displaystyle - \\sin{\\left(\\alpha \\right)} \\sin{\\left(\\beta \\right)} + \\cos{\\left(\\alpha \\right)} \\cos{\\left(\\beta \\right)}$"
      ],
      "text/plain": [
       "-sin(alpha)*sin(beta) + cos(alpha)*cos(beta)"
      ]
     },
     "execution_count": 9,
     "metadata": {},
     "output_type": "execute_result"
    }
   ],
   "source": [
    "det_matrix_1_symbolic = matrix_1.det()\n",
    "det_matrix_1_symbolic"
   ]
  },
  {
   "cell_type": "code",
   "execution_count": null,
   "id": "9db5ea29-61c1-4a7e-935a-2358bd70621b",
   "metadata": {},
   "outputs": [],
   "source": [
    "Матрица 2"
   ]
  },
  {
   "cell_type": "code",
   "execution_count": 10,
   "id": "406d5181-ed1e-4e52-a795-7380aba27354",
   "metadata": {},
   "outputs": [
    {
     "data": {
      "text/latex": [
       "$\\displaystyle \\left[\\begin{matrix}\\frac{1 - t^{2}}{t^{2} + 1} & \\frac{2 t}{t^{2} + 1}\\\\- \\frac{2 t}{t^{2} + 1} & \\frac{1 - t^{2}}{t^{2} + 1}\\end{matrix}\\right]$"
      ],
      "text/plain": [
       "Matrix([\n",
       "[(1 - t**2)/(t**2 + 1),        2*t/(t**2 + 1)],\n",
       "[      -2*t/(t**2 + 1), (1 - t**2)/(t**2 + 1)]])"
      ]
     },
     "execution_count": 10,
     "metadata": {},
     "output_type": "execute_result"
    }
   ],
   "source": [
    "matrix_2 = sp.Matrix([\n",
    "    [(1 - t**2) / (1 + t**2), 2*t / (1 + t**2)],\n",
    "    [-2*t / (1 + t**2), (1 - t**2) / (1 + t**2)]\n",
    "])\n",
    "matrix_2"
   ]
  },
  {
   "cell_type": "code",
   "execution_count": 12,
   "id": "7f5f1b34-b915-43e1-88ba-9ae67bd8eff9",
   "metadata": {},
   "outputs": [
    {
     "data": {
      "text/latex": [
       "$\\displaystyle 1$"
      ],
      "text/plain": [
       "1"
      ]
     },
     "execution_count": 12,
     "metadata": {},
     "output_type": "execute_result"
    }
   ],
   "source": [
    "det_matrix_2_symbolic = matrix_2.det()\n",
    "det_matrix_2_symbolic"
   ]
  },
  {
   "cell_type": "code",
   "execution_count": 16,
   "id": "54bed9b4-83cd-4339-b6d5-7734791e8274",
   "metadata": {},
   "outputs": [
    {
     "data": {
      "text/latex": [
       "$\\displaystyle 1.0$"
      ],
      "text/plain": [
       "1.00000000000000"
      ]
     },
     "execution_count": 16,
     "metadata": {},
     "output_type": "execute_result"
    }
   ],
   "source": [
    "# Замена t на числовое значение и проверим получится ли 1\n",
    "det_matrix_2_numeric = matrix_2.subs(t, 0.5).det().evalf()\n",
    "det_matrix_2_numeric"
   ]
  },
  {
   "cell_type": "code",
   "execution_count": null,
   "id": "0e600723-5387-4394-9ecd-13f557430650",
   "metadata": {},
   "outputs": [],
   "source": [
    "Матрица 3"
   ]
  },
  {
   "cell_type": "code",
   "execution_count": 17,
   "id": "a5408f75-61e1-45ec-bdc1-c43f5640547f",
   "metadata": {},
   "outputs": [
    {
     "data": {
      "text/latex": [
       "$\\displaystyle \\left[\\begin{matrix}a^{2} & a b\\\\a b & b^{2}\\end{matrix}\\right]$"
      ],
      "text/plain": [
       "Matrix([\n",
       "[a**2,  a*b],\n",
       "[ a*b, b**2]])"
      ]
     },
     "execution_count": 17,
     "metadata": {},
     "output_type": "execute_result"
    }
   ],
   "source": [
    "matrix_3 = sp.Matrix([[a**2, a*b], [a*b, b**2]])\n",
    "matrix_3"
   ]
  },
  {
   "cell_type": "code",
   "execution_count": 18,
   "id": "75f967de-ab41-46ce-b093-7d8bd5c901a5",
   "metadata": {},
   "outputs": [
    {
     "data": {
      "text/latex": [
       "$\\displaystyle 0$"
      ],
      "text/plain": [
       "0"
      ]
     },
     "execution_count": 18,
     "metadata": {},
     "output_type": "execute_result"
    }
   ],
   "source": [
    "det_matrix_3_symbolic = matrix_3.det()\n",
    "det_matrix_3_symbolic"
   ]
  },
  {
   "cell_type": "code",
   "execution_count": 19,
   "id": "cd9a1246-1f79-4210-b151-9d06ab73552d",
   "metadata": {},
   "outputs": [
    {
     "data": {
      "text/latex": [
       "$\\displaystyle 0$"
      ],
      "text/plain": [
       "0"
      ]
     },
     "execution_count": 19,
     "metadata": {},
     "output_type": "execute_result"
    }
   ],
   "source": [
    "# Замена a и b на числовые значения\n",
    "det_matrix_3_numeric = matrix_3.subs({a: 2, b: 3}).det().evalf()\n",
    "det_matrix_3_numeric"
   ]
  },
  {
   "cell_type": "code",
   "execution_count": null,
   "id": "b3b3fefe-6511-4732-b545-b973681f29af",
   "metadata": {},
   "outputs": [],
   "source": [
    "Матрица 4"
   ]
  },
  {
   "cell_type": "code",
   "execution_count": 20,
   "id": "b8bb5613-b541-4b29-9a70-e4e139719e59",
   "metadata": {},
   "outputs": [
    {
     "data": {
      "text/latex": [
       "$\\displaystyle \\left[\\begin{matrix}5 & 2 & 0\\\\7 & 3 & 0\\\\0 & 0 & 1\\end{matrix}\\right]$"
      ],
      "text/plain": [
       "Matrix([\n",
       "[5, 2, 0],\n",
       "[7, 3, 0],\n",
       "[0, 0, 1]])"
      ]
     },
     "execution_count": 20,
     "metadata": {},
     "output_type": "execute_result"
    }
   ],
   "source": [
    "matrix_4 = sp.Matrix([[5, 2, 0], [7, 3, 0], [0, 0, 1]])\n",
    "matrix_4"
   ]
  },
  {
   "cell_type": "code",
   "execution_count": 21,
   "id": "d57249ad-cfe2-4903-ab95-7b950aefec77",
   "metadata": {},
   "outputs": [
    {
     "data": {
      "text/latex": [
       "$\\displaystyle 1$"
      ],
      "text/plain": [
       "1"
      ]
     },
     "execution_count": 21,
     "metadata": {},
     "output_type": "execute_result"
    }
   ],
   "source": [
    "det_matrix_4_symbolic = matrix_4.det()\n",
    "det_matrix_4_symbolic"
   ]
  },
  {
   "cell_type": "code",
   "execution_count": 22,
   "id": "4d694cfa-8df0-4d55-ab7b-27822659904b",
   "metadata": {},
   "outputs": [
    {
     "data": {
      "text/plain": [
       "0.9999999999999964"
      ]
     },
     "execution_count": 22,
     "metadata": {},
     "output_type": "execute_result"
    }
   ],
   "source": [
    "# Проверяем численный определитель с помощью NumPy\n",
    "matrix_4_numpy = np.array([[5, 2, 0], [7, 3, 0], [0, 0, 1]])\n",
    "det_matrix_4_numeric = np.linalg.det(matrix_4_numpy)\n",
    "det_matrix_4_numeric"
   ]
  },
  {
   "cell_type": "markdown",
   "id": "2d3f387b-c705-4cc7-8e23-fb8fb2bc8af8",
   "metadata": {},
   "source": [
    "### Задача 2"
   ]
  },
  {
   "cell_type": "code",
   "execution_count": 26,
   "id": "b951fc47-bf8d-4a8c-86cb-1462dce3f008",
   "metadata": {},
   "outputs": [
    {
     "name": "stdout",
     "output_type": "stream",
     "text": [
      "Матрица A:\n",
      "⎡8  9  2⎤\n",
      "⎢       ⎥\n",
      "⎢2  5  1⎥\n",
      "⎢       ⎥\n",
      "⎣1  9  6⎦\n",
      "\n",
      "Матрица B:\n",
      "⎡9  5  2⎤\n",
      "⎢       ⎥\n",
      "⎢4  7  6⎥\n",
      "⎢       ⎥\n",
      "⎣3  1  7⎦\n",
      "\n",
      "Матрица C:\n",
      "⎡5  3  7⎤\n",
      "⎢       ⎥\n",
      "⎢8  9  9⎥\n",
      "⎢       ⎥\n",
      "⎣3  1  7⎦\n",
      "\n",
      "Разность C - B:\n",
      "⎡-4  -2  5⎤\n",
      "⎢         ⎥\n",
      "⎢4   2   3⎥\n",
      "⎢         ⎥\n",
      "⎣0   0   0⎦\n",
      "\n",
      "Обратная матрица A_inv:\n",
      "⎡ 21   -36        ⎤\n",
      "⎢ ──   ────  -1/95⎥\n",
      "⎢ 95    95        ⎥\n",
      "⎢                 ⎥\n",
      "⎢-11    46        ⎥\n",
      "⎢────   ──   -4/95⎥\n",
      "⎢ 95    95        ⎥\n",
      "⎢                 ⎥\n",
      "⎢ 13   -63    22  ⎥\n",
      "⎢ ──   ────   ──  ⎥\n",
      "⎣ 95    95    95  ⎦\n",
      "\n",
      "Решение X:\n",
      "⎡-12/5  -6/5  -3/95⎤\n",
      "⎢                  ⎥\n",
      "⎢              83  ⎥\n",
      "⎢12/5   6/5    ──  ⎥\n",
      "⎢              95  ⎥\n",
      "⎢                  ⎥\n",
      "⎢             -124 ⎥\n",
      "⎢-16/5  -8/5  ─────⎥\n",
      "⎣              95  ⎦\n"
     ]
    }
   ],
   "source": [
    "# Определение матриц A, B, C\n",
    "A = sp.Matrix([[8, 9, 2], [2, 5, 1], [1, 9, 6]])\n",
    "B = sp.Matrix([[9, 5, 2], [4, 7, 6], [3, 1, 7]])\n",
    "C = sp.Matrix([[5, 3, 7], [8, 9, 9], [3, 1, 7]])\n",
    "\n",
    "# Шаг 1: Вычисляем C - B\n",
    "C_minus_B = C - B\n",
    "\n",
    "# Шаг 2: Находим обратную матрицу A_inv\n",
    "A_inv = A.inv()\n",
    "\n",
    "# Шаг 3: Находим X = A_inv * (C - B)\n",
    "X = A_inv * C_minus_B\n",
    "\n",
    "# Вывод результатов\n",
    "print(\"Матрица A:\")\n",
    "sp.pprint(A)\n",
    "\n",
    "print(\"\\nМатрица B:\")\n",
    "sp.pprint(B)\n",
    "\n",
    "print(\"\\nМатрица C:\")\n",
    "sp.pprint(C)\n",
    "\n",
    "print(\"\\nРазность C - B:\")\n",
    "sp.pprint(C_minus_B)\n",
    "\n",
    "print(\"\\nОбратная матрица A_inv:\")\n",
    "sp.pprint(A_inv)\n",
    "\n",
    "print(\"\\nРешение X:\")\n",
    "sp.pprint(X)"
   ]
  },
  {
   "cell_type": "markdown",
   "id": "5c67697d-6d88-4e9d-80d0-8001a6381185",
   "metadata": {},
   "source": [
    "Для матриц из первой строки на рисунке уравнение AX+B=C не имеет решения, так как матрица A прямоугольная и её обратная матрица не существует. "
   ]
  },
  {
   "cell_type": "markdown",
   "id": "6deb3181-f909-46b8-8330-f6df6037a102",
   "metadata": {},
   "source": [
    "### Задача 3"
   ]
  },
  {
   "cell_type": "markdown",
   "id": "b0f4a047-9c43-4a4e-b803-bceac4fd983a",
   "metadata": {},
   "source": [
    "#### Уравнение 1"
   ]
  },
  {
   "cell_type": "code",
   "execution_count": 53,
   "id": "5a9fba09-14fe-4f23-b6f1-352e5bb0a595",
   "metadata": {},
   "outputs": [
    {
     "name": "stdout",
     "output_type": "stream",
     "text": [
      "Система уравнений:\n"
     ]
    },
    {
     "data": {
      "text/latex": [
       "$\\displaystyle \\sqrt{x - 4 y} - 2 \\sqrt{x + 3 y} = 1$"
      ],
      "text/plain": [
       "Eq(sqrt(x - 4*y) - 2*sqrt(x + 3*y), 1)"
      ]
     },
     "metadata": {},
     "output_type": "display_data"
    },
    {
     "data": {
      "text/latex": [
       "$\\displaystyle - 5 x + 22 y + 7 \\sqrt{x + 3 y} = 13$"
      ],
      "text/plain": [
       "Eq(-5*x + 22*y + 7*sqrt(x + 3*y), 13)"
      ]
     },
     "metadata": {},
     "output_type": "display_data"
    },
    {
     "name": "stderr",
     "output_type": "stream",
     "text": [
      "/tmp/ipykernel_299928/555516229.py:18: RuntimeWarning: invalid value encountered in sqrt\n",
      "  F1 = np.where(cond, np.sqrt(X-4*Y) -2*np.sqrt(X+3*Y) -1, np.nan)\n",
      "/tmp/ipykernel_299928/555516229.py:19: RuntimeWarning: invalid value encountered in sqrt\n",
      "  F2 = np.where(cond, 7*np.sqrt(X+3*Y) -5*X +22*Y -13, np.nan)\n"
     ]
    },
    {
     "data": {
      "image/png": "[encoded data removed]",
      "text/plain": [
       "<Figure size 1000x600 with 1 Axes>"
      ]
     },
     "metadata": {},
     "output_type": "display_data"
    }
   ],
   "source": [
    "import matplotlib.pyplot as plt\n",
    "\n",
    "# Символьное представление системы\n",
    "x, y = sp.symbols('x y')\n",
    "system = [\n",
    "    sp.Eq(sp.sqrt(x-4*y) - 2*sp.sqrt(x+3*y), 1),\n",
    "    sp.Eq(7*sp.sqrt(x+3*y) -5*x +22*y, 13)\n",
    "]\n",
    "\n",
    "# Вывод системы\n",
    "print(\"Система уравнений:\")\n",
    "_ = [display(eq) for eq in system]\n",
    "\n",
    "# Проверим пересекаются графики уравнений\n",
    "X, Y = np.meshgrid(np.linspace(-10, 50, 500), np.linspace(-10, 20, 500))\n",
    "cond = (X-4*Y >= 0) & (X+3*Y >= 0)\n",
    "\n",
    "F1 = np.where(cond, np.sqrt(X-4*Y) -2*np.sqrt(X+3*Y) -1, np.nan)\n",
    "F2 = np.where(cond, 7*np.sqrt(X+3*Y) -5*X +22*Y -13, np.nan)\n",
    "\n",
    "plt.figure(figsize=(10, 6))\n",
    "plt.contour(X, Y, F1, levels=[0], colors='r', linewidths=2)\n",
    "plt.contour(X, Y, F2, levels=[0], colors='b', linewidths=2)\n",
    "plt.xlabel('x'); plt.ylabel('y'); plt.grid(True)\n",
    "plt.legend(['Уравнение 1', 'Уравнение 2'])\n",
    "plt.title('Графики системы уравнений')\n",
    "plt.show()"
   ]
  },
  {
   "cell_type": "markdown",
   "id": "08cd5ced-eefb-493a-bef6-c01b5da209cf",
   "metadata": {},
   "source": [
    "Ответ: Система уравнений не имеет решений в области допустимых значений."
   ]
  },
  {
   "cell_type": "markdown",
   "id": "da5ba514-217b-4be3-8729-a5f43621c484",
   "metadata": {},
   "source": [
    "#### Уравнение 2"
   ]
  },
  {
   "cell_type": "code",
   "execution_count": 63,
   "id": "9d7b24de-19ae-4525-9fb8-944871377fd8",
   "metadata": {},
   "outputs": [
    {
     "data": {
      "image/png": "[encoded data removed]",
      "text/plain": [
       "<Figure size 1000x1000 with 1 Axes>"
      ]
     },
     "metadata": {},
     "output_type": "display_data"
    }
   ],
   "source": [
    "# Создаем сетку значений\n",
    "x = np.linspace(-10, 10, 500)\n",
    "y = np.linspace(-10, 10, 500)\n",
    "X, Y = np.meshgrid(x, y)\n",
    "\n",
    "# Вычисляем уравнения\n",
    "Z1 = X**4 - Y**4 - 15\n",
    "Z2 = X**3*Y - X*Y**3 - 6\n",
    "\n",
    "# Построение графиков\n",
    "plt.figure(figsize=(10, 10))\n",
    "plt.contour(X, Y, Z1, levels=[0], colors='r')\n",
    "plt.contour(X, Y, Z2, levels=[0], colors='b')\n",
    "plt.xlabel('x')\n",
    "plt.ylabel('y')\n",
    "plt.title('Графики уравнений системы')\n",
    "plt.grid(True)\n",
    "plt.show()"
   ]
  },
  {
   "cell_type": "code",
   "execution_count": 16,
   "id": "b8014607-77e8-4b96-a741-2f3f1980d512",
   "metadata": {},
   "outputs": [
    {
     "name": "stdout",
     "output_type": "stream",
     "text": [
      "Действительные решения:\n",
      "x = -2, y = -1\n",
      "x = 2, y = 1\n"
     ]
    }
   ],
   "source": [
    "x, y = sp.symbols('x y')\n",
    "eq1 = sp.Eq(x**4 - y**4, 15)\n",
    "eq2 = sp.Eq(x**3*y - x*y**3, 6)\n",
    "\n",
    "# Решение системы\n",
    "solutions = sp.solve([eq1, eq2], (x, y))\n",
    "\n",
    "# Фильтрация действительных решений\n",
    "real_solutions = []\n",
    "for sol in solutions:\n",
    "    x_val, y_val = sol\n",
    "    if x_val.is_real and y_val.is_real:\n",
    "        real_solutions.append(sol)\n",
    "\n",
    "print(\"Действительные решения:\")\n",
    "for sol in real_solutions:\n",
    "    print(f\"x = {sol[0]}, y = {sol[1]}\")"
   ]
  },
  {
   "cell_type": "markdown",
   "id": "cae1298c-1f78-4a5f-b076-4703703c3091",
   "metadata": {},
   "source": [
    "#### Уравнение 3"
   ]
  },
  {
   "cell_type": "code",
   "execution_count": 103,
   "id": "734ad44d-d068-42a2-aab9-fad7fd7f27d0",
   "metadata": {},
   "outputs": [
    {
     "name": "stdout",
     "output_type": "stream",
     "text": [
      "Решения системы (все перестановки):\n",
      "Точка 1: x = -1, y = 1, z = 2\n",
      "Точка 2: x = -1, y = 2, z = 1\n",
      "Точка 3: x = 1, y = -1, z = 2\n",
      "Точка 4: x = 1, y = 2, z = -1\n",
      "Точка 5: x = 2, y = -1, z = 1\n",
      "Точка 6: x = 2, y = 1, z = -1\n"
     ]
    },
    {
     "data": {
      "image/png": "[encoded data removed]",
      "text/plain": [
       "<Figure size 1800x500 with 3 Axes>"
      ]
     },
     "metadata": {},
     "output_type": "display_data"
    }
   ],
   "source": [
    "# Решение системы\n",
    "x, y, z = sp.symbols('x y z')\n",
    "system = [\n",
    "    sp.Eq(x + y + z, 2),\n",
    "    sp.Eq(x**2 + y**2 + z**2, 6),\n",
    "    sp.Eq(x**3 + y**3 + z**3, 8)\n",
    "]\n",
    "solutions = sp.solve(system, (x, y, z))\n",
    "\n",
    "# Вывод решений с нумерацией\n",
    "print(\"Решения системы (все перестановки):\")\n",
    "for i, sol in enumerate(solutions, 1):\n",
    "    print(f\"Точка {i}: x = {sol[0]}, y = {sol[1]}, z = {sol[2]}\")\n",
    "\n",
    "# Визуализация с нумерацией точек\n",
    "plt.figure(figsize=(18, 5))\n",
    "\n",
    "# Проекция XY\n",
    "plt.subplot(131)\n",
    "for i, sol in enumerate(solutions, 1):\n",
    "    plt.scatter(sol[0], sol[1], color='r')\n",
    "    plt.text(sol[0], sol[1], f'{i}', fontsize=12, ha='right')\n",
    "plt.xlabel('X'); plt.ylabel('Y'); plt.title('XY проекция')\n",
    "plt.grid(True)\n",
    "\n",
    "# Проекция XZ\n",
    "plt.subplot(132)\n",
    "for i, sol in enumerate(solutions, 1):\n",
    "    plt.scatter(sol[0], sol[2], color='g')\n",
    "    plt.text(sol[0], sol[2], f'{i}', fontsize=12, ha='right')\n",
    "plt.xlabel('X'); plt.ylabel('Z'); plt.title('XZ проекция')\n",
    "plt.grid(True)\n",
    "\n",
    "# Проекция YZ\n",
    "plt.subplot(133)\n",
    "for i, sol in enumerate(solutions, 1):\n",
    "    plt.scatter(sol[1], sol[2], color='b')\n",
    "    plt.text(sol[1], sol[2], f'{i}', fontsize=12, ha='right')\n",
    "plt.xlabel('Y'); plt.ylabel('Z'); plt.title('YZ проекция')\n",
    "plt.grid(True)\n",
    "\n",
    "plt.tight_layout()\n",
    "plt.show()"
   ]
  },
  {
   "cell_type": "markdown",
   "id": "ac0be0e9-f80a-4068-ac70-980aa776b588",
   "metadata": {},
   "source": [
    "#### Уравнение 4"
   ]
  },
  {
   "cell_type": "code",
   "execution_count": 21,
   "id": "796d4bb1-0709-4e7f-abc7-04fdad44c652",
   "metadata": {},
   "outputs": [
    {
     "name": "stdout",
     "output_type": "stream",
     "text": [
      "Решения системы:\n",
      "x = 1, y = 1, z = 1\n"
     ]
    }
   ],
   "source": [
    "import sympy as sp\n",
    "import numpy as np\n",
    "import matplotlib.pyplot as plt\n",
    "from matplotlib.patches import Patch\n",
    "\n",
    "# Решение системы уравнений\n",
    "x, y, z = sp.symbols('x y z')\n",
    "system = [\n",
    "    sp.Eq(x/y + y/z + z/x, 3),\n",
    "    sp.Eq(y/x + z/y + x/z, 3),\n",
    "    sp.Eq(x + y + z, 3)\n",
    "]\n",
    "solutions = sp.solve(system, (x, y, z))\n",
    "\n",
    "# Вывод решений\n",
    "print(\"Решения системы:\")\n",
    "for sol in solutions:\n",
    "    print(f\"x = {sol[0]}, y = {sol[1]}, z = {sol[2]}\")"
   ]
  },
  {
   "cell_type": "markdown",
   "id": "9ccd100c-bde2-4ec9-8e75-37587af3f732",
   "metadata": {},
   "source": [
    "### Задача 4"
   ]
  },
  {
   "cell_type": "markdown",
   "id": "fdb84c74-c981-4d66-bb9f-5f7b4bbf35f2",
   "metadata": {},
   "source": [
    "#### Уравнение 1"
   ]
  },
  {
   "cell_type": "code",
   "execution_count": 100,
   "id": "3fa7bf45-137a-40b4-ac3c-bb1c956aa0f5",
   "metadata": {},
   "outputs": [
    {
     "name": "stdout",
     "output_type": "stream",
     "text": [
      "Символьное решение первого уравнения:\n",
      "         ⎛                _______⎞\n",
      "         ⎜      2        ╱     2 ⎟\n",
      "         ⎜   5⋅x        ╱   5⋅x  ⎟\n",
      "       5⋅⎝- ℯ     + 4⋅╲╱   ℯ     ⎠\n",
      "y(x) = ───────────────────────────\n",
      "                        2         \n",
      "                     5⋅x          \n",
      "               16 - ℯ             \n"
     ]
    },
    {
     "data": {
      "image/png": "[encoded data removed]",
      "text/plain": [
       "<Figure size 1000x500 with 1 Axes>"
      ]
     },
     "metadata": {},
     "output_type": "display_data"
    }
   ],
   "source": [
    "from scipy.integrate import solve_ivp\n",
    "\n",
    "# Символьное решение\n",
    "x = sp.symbols('x')\n",
    "y = sp.Function('y')(x)\n",
    "eq1 = sp.Eq(y.diff(x) + x*y**2, 5*x*y)\n",
    "sol1_sym = sp.dsolve(eq1, ics={y.subs(x,0): 1})\n",
    "\n",
    "print(\"Символьное решение первого уравнения:\")\n",
    "sp.pprint(sol1_sym)\n",
    "\n",
    "# Численное решение\n",
    "def eq1_ode(x, y):\n",
    "    return 5*x*y - x*y**2\n",
    "\n",
    "x_span = (0, 2)\n",
    "sol1_num = solve_ivp(eq1_ode, x_span, [1], t_eval=np.linspace(0, 2, 100))\n",
    "\n",
    "# График\n",
    "plt.figure(figsize=(10, 5))\n",
    "plt.plot(sol1_num.t, sol1_num.y[0], label='Численное решение')\n",
    "plt.title(r\"Решение $y' + xy^2 = 5xy$, $y(0)=1$\")\n",
    "plt.xlabel('x')\n",
    "plt.ylabel('y(x)')\n",
    "plt.grid(True)\n",
    "plt.legend()\n",
    "plt.show()"
   ]
  },
  {
   "cell_type": "markdown",
   "id": "45eade81-bbf2-4939-a1c3-edf3ae2b087f",
   "metadata": {},
   "source": [
    "#### Уравнение 2"
   ]
  },
  {
   "cell_type": "code",
   "execution_count": 101,
   "id": "25803cb1-5c12-4c25-8391-5a2c82e35da6",
   "metadata": {},
   "outputs": [
    {
     "name": "stdout",
     "output_type": "stream",
     "text": [
      "\n",
      "Символьное решение второго уравнения:\n",
      "            x                              \n",
      "         9⋅ℯ    3⋅sin(2⋅x)   3⋅cos(2⋅x)   3\n",
      "y(x) = - ──── - ────────── + ────────── + ─\n",
      "          5         5            10       2\n"
     ]
    },
    {
     "data": {
      "image/png": "[encoded data removed]",
      "text/plain": [
       "<Figure size 1000x500 with 1 Axes>"
      ]
     },
     "metadata": {},
     "output_type": "display_data"
    }
   ],
   "source": [
    "# Символьное решение\n",
    "eq2 = sp.Eq(y.diff(x) + 3*sp.cos(x)**2, y)\n",
    "sol2_sym = sp.dsolve(eq2, ics={y.subs(x,0): 0})\n",
    "\n",
    "print(\"\\nСимвольное решение второго уравнения:\")\n",
    "sp.pprint(sol2_sym)\n",
    "\n",
    "# Численное решение\n",
    "def eq2_ode(x, y):\n",
    "    return y - 3*np.cos(x)**2\n",
    "\n",
    "sol2_num = solve_ivp(eq2_ode, x_span, [0], t_eval=np.linspace(0, 2, 100))\n",
    "\n",
    "# График\n",
    "plt.figure(figsize=(10, 5))\n",
    "plt.plot(sol2_num.t, sol2_num.y[0], label='Численное решение')\n",
    "plt.title(r\"Решение $y' + 3\\cos^2x = y$, $y(0)=0$\")\n",
    "plt.xlabel('x')\n",
    "plt.ylabel('y(x)')\n",
    "plt.grid(True)\n",
    "plt.legend()\n",
    "plt.show()"
   ]
  },
  {
   "cell_type": "markdown",
   "id": "1fb0c209-44e7-4a54-aa21-1a4f6179b313",
   "metadata": {},
   "source": [
    "###  Задача 5"
   ]
  },
  {
   "cell_type": "code",
   "execution_count": 119,
   "id": "1695a58c-01fa-46dc-ac83-bd512dc31242",
   "metadata": {},
   "outputs": [
    {
     "name": "stdout",
     "output_type": "stream",
     "text": [
      "Доказательство равенства T·Rx:\n",
      "Результат умножения:\n",
      " Matrix([[cos(alpha), -sin(alpha), 0, T_x], [sin(alpha), cos(alpha), 0, T_y], [0, 0, 1, T_z], [0, 0, 0, 1]])\n",
      "\n",
      "Ожидаемая матрица:\n",
      " Matrix([[cos(alpha), -sin(alpha), 0, T_x], [sin(alpha), cos(alpha), 0, T_y], [0, 0, 1, T_z], [0, 0, 0, 1]])\n",
      "\n",
      "Равенство выполняется: True\n",
      "\n",
      "Символьные матрицы трансформации:\n",
      "Матрица перемещения T:\n",
      " Matrix([[1, 0, 0, T_x], [0, 1, 0, T_y], [0, 0, 1, T_z], [0, 0, 0, 1]])\n",
      "\n",
      "Матрица поворота Rx:\n",
      " Matrix([[1, 0, 0, 0], [0, cos(gamma), -sin(gamma), 0], [0, sin(gamma), cos(gamma), 0], [0, 0, 0, 1]])\n",
      "\n",
      "Матрица поворота Ry:\n",
      " Matrix([[cos(beta), 0, sin(beta), 0], [0, 1, 0, 0], [-sin(beta), 0, cos(beta), 0], [0, 0, 0, 1]])\n",
      "\n",
      "Результирующая матрица T·Ry·Rx:\n",
      " Matrix([[cos(beta), sin(beta)*sin(gamma), sin(beta)*cos(gamma), T_x], [0, cos(gamma), -sin(gamma), T_y], [-sin(beta), sin(gamma)*cos(beta), cos(beta)*cos(gamma), T_z], [0, 0, 0, 1]])\n",
      "\n",
      "Численная результирующая матрица (исправленный порядок):\n",
      "[[ 0.7071 -0.3536 -0.6124 10.    ]\n",
      " [ 0.      0.866  -0.5    10.    ]\n",
      " [ 0.7071  0.3536  0.6124  1.    ]\n",
      " [ 0.      0.      0.      1.    ]]\n"
     ]
    }
   ],
   "source": [
    "# Часть 1: Доказательство матричного равенства\n",
    "def proof_matrix_equality():\n",
    "    # Определяем символы\n",
    "    Tx, Ty, Tz, alpha = sp.symbols('T_x T_y T_z alpha')\n",
    "    \n",
    "    # Матрица перемещения\n",
    "    T = sp.Matrix([\n",
    "        [1, 0, 0, Tx],\n",
    "        [0, 1, 0, Ty],\n",
    "        [0, 0, 1, Tz],\n",
    "        [0, 0, 0, 1]\n",
    "    ])\n",
    "    \n",
    "    # Матрица поворота вокруг X\n",
    "    Rx = sp.Matrix([\n",
    "        [sp.cos(alpha), -sp.sin(alpha), 0, 0],\n",
    "        [sp.sin(alpha),  sp.cos(alpha), 0, 0],\n",
    "        [0,             0,              1, 0],\n",
    "        [0,             0,              0, 1]\n",
    "    ])\n",
    "    \n",
    "    # Умножение матриц\n",
    "    result = T * Rx\n",
    "    \n",
    "    # Ожидаемый результат\n",
    "    expected = sp.Matrix([\n",
    "        [sp.cos(alpha), -sp.sin(alpha), 0, Tx],\n",
    "        [sp.sin(alpha),  sp.cos(alpha), 0, Ty],\n",
    "        [0,             0,              1, Tz],\n",
    "        [0,             0,              0, 1]\n",
    "    ])\n",
    "    \n",
    "    print(\"Доказательство равенства T·Rx:\")\n",
    "    print(\"Результат умножения:\\n\", result)\n",
    "    print(\"\\nОжидаемая матрица:\\n\", expected)\n",
    "    print(\"\\nРавенство выполняется:\", result == expected)\n",
    "\n",
    "# Часть 2: Исправленная результирующая матрица трансформации\n",
    "def transformation_matrix():\n",
    "    # Символьные матрицы\n",
    "    Tx, Ty, Tz = sp.symbols('T_x T_y T_z')\n",
    "    gamma, beta = sp.symbols('gamma beta')\n",
    "    \n",
    "    # Матрица перемещения\n",
    "    T = sp.Matrix([\n",
    "        [1, 0, 0, Tx],\n",
    "        [0, 1, 0, Ty],\n",
    "        [0, 0, 1, Tz],\n",
    "        [0, 0, 0, 1]\n",
    "    ])\n",
    "    \n",
    "    # Матрицы поворотов (порядок X -> Y)\n",
    "    Rx = sp.Matrix([\n",
    "        [1, 0, 0, 0],\n",
    "        [0, sp.cos(gamma), -sp.sin(gamma), 0],\n",
    "        [0, sp.sin(gamma),  sp.cos(gamma), 0],\n",
    "        [0, 0, 0, 1]\n",
    "    ])\n",
    "    \n",
    "    Ry = sp.Matrix([\n",
    "        [sp.cos(beta), 0, sp.sin(beta), 0],\n",
    "        [0, 1, 0, 0],\n",
    "        [-sp.sin(beta), 0, sp.cos(beta), 0],\n",
    "        [0, 0, 0, 1]\n",
    "    ])\n",
    "    \n",
    "    # Результирующая матрица (T·Ry·Rx) - правильный порядок\n",
    "    Transform = T * Ry * Rx  # Сначала Rx, потом Ry, потом T\n",
    "    \n",
    "    print(\"\\nСимвольные матрицы трансформации:\")\n",
    "    print(\"Матрица перемещения T:\\n\", T)\n",
    "    print(\"\\nМатрица поворота Rx:\\n\", Rx)\n",
    "    print(\"\\nМатрица поворота Ry:\\n\", Ry)\n",
    "    print(\"\\nРезультирующая матрица T·Ry·Rx:\\n\", Transform)\n",
    "    \n",
    "    # Численные значения\n",
    "    T_num = np.array([\n",
    "        [1, 0, 0, 10],\n",
    "        [0, 1, 0, 10],\n",
    "        [0, 0, 1, 1],\n",
    "        [0, 0, 0, 1]\n",
    "    ])\n",
    "    \n",
    "    gamma_rad = np.deg2rad(30)    # Поворот вокруг X на 30°\n",
    "    beta_rad = np.deg2rad(-45)    # Поворот вокруг Y на -45°\n",
    "    \n",
    "    Rx_num = np.array([\n",
    "        [1, 0, 0, 0],\n",
    "        [0, np.cos(gamma_rad), -np.sin(gamma_rad), 0],\n",
    "        [0, np.sin(gamma_rad), np.cos(gamma_rad), 0],\n",
    "        [0, 0, 0, 1]\n",
    "    ])\n",
    "    \n",
    "    Ry_num = np.array([\n",
    "        [np.cos(beta_rad), 0, np.sin(beta_rad), 0],\n",
    "        [0, 1, 0, 0],\n",
    "        [-np.sin(beta_rad), 0, np.cos(beta_rad), 0],\n",
    "        [0, 0, 0, 1]\n",
    "    ])\n",
    "    \n",
    "    # Правильный порядок умножения: T @ Ry @ Rx\n",
    "    Transform_num = T_num @ Ry_num @ Rx_num\n",
    "    \n",
    "    print(\"\\nЧисленная результирующая матрица (исправленный порядок):\")\n",
    "    print(np.round(Transform_num, 4))\n",
    "\n",
    "# Запуск функций\n",
    "proof_matrix_equality()\n",
    "transformation_matrix()"
   ]
  },
  {
   "cell_type": "markdown",
   "id": "aa52e6aa-fffa-4bec-b492-81eed74d54d3",
   "metadata": {},
   "source": [
    "###  Задача 6"
   ]
  },
  {
   "cell_type": "code",
   "execution_count": 22,
   "id": "f393059e-2ec3-4489-8542-905d056d53e5",
   "metadata": {},
   "outputs": [
    {
     "data": {
      "image/png": "[encoded data removed]",
      "text/plain": [
       "<Figure size 640x480 with 1 Axes>"
      ]
     },
     "metadata": {},
     "output_type": "display_data"
    }
   ],
   "source": [
    "from matplotlib import image\n",
    "\n",
    "# Загрузка изображения\n",
    "image_path = './6.png'\n",
    "img_array = image.imread(image_path)\n",
    "\n",
    "# Удаляем альфа-канал, если есть\n",
    "if img_array.shape[-1] == 4:\n",
    "    img_array = img_array[..., :3]\n",
    "\n",
    "# Нормализация значений (если диапазон [0,1])\n",
    "if np.max(img_array) <= 1.0:\n",
    "    img_array = (img_array * 255).astype(np.uint8)\n",
    "\n",
    "# Копия для избежания предупреждений\n",
    "img_array = img_array.copy()\n",
    "\n",
    "# 1. Перекрашиваем синюю звезду в красный\n",
    "blue_mask = (\n",
    "    (img_array[..., 2] > 200) &  # Высокий синий канал\n",
    "    (img_array[..., 0] < 50) &   # Низкий красный\n",
    "    (img_array[..., 1] < 50)     # Низкий зелёный\n",
    ")\n",
    "img_array[blue_mask] = [255, 0, 0]  # Красный цвет\n",
    "\n",
    "# 2. Перекрашиваем белый фон (флаг) в зелёный\n",
    "white_mask = (\n",
    "    (img_array[..., 0] > 200) &  # Высокий красный канал\n",
    "    (img_array[..., 1] > 200) &  # Высокий зелёный\n",
    "    (img_array[..., 2] > 200)    # Высокий синий\n",
    ")\n",
    "img_array[white_mask] = [0, 200, 0]  # Зелёный цвет\n",
    "\n",
    "# Визуализация результата\n",
    "plt.imshow(img_array)\n",
    "plt.axis('off')\n",
    "plt.show()"
   ]
  },
  {
   "cell_type": "markdown",
   "id": "bd2bf4ff-191f-475f-a40b-6f95c26881d2",
   "metadata": {},
   "source": [
    "###  Задача 7"
   ]
  },
  {
   "cell_type": "code",
   "execution_count": 23,
   "id": "85b823a6-b56c-442e-bcc0-a29468e2cb3a",
   "metadata": {},
   "outputs": [
    {
     "name": "stdout",
     "output_type": "stream",
     "text": [
      "sin(x) = -x**7/5040 + x**5/120 - x**3/6 + x\n",
      "cos(x) = -x**6/720 + x**4/24 - x**2/2 + 1\n",
      "exp(x) = x**7/5040 + x**6/720 + x**5/120 + x**4/24 + x**3/6 + x**2/2 + x + 1\n"
     ]
    }
   ],
   "source": [
    "x = sp.symbols('x')\n",
    "\n",
    "# Разложение sin(x)\n",
    "sin_expansion = sp.series(sp.sin(x), x, 0, 8).removeO()\n",
    "print(f\"sin(x) = {sin_expansion}\")\n",
    "\n",
    "# Разложение cos(x)\n",
    "cos_expansion = sp.series(sp.cos(x), x, 0, 8).removeO()\n",
    "print(f\"cos(x) = {cos_expansion}\")\n",
    "\n",
    "# Разложение exp(x)\n",
    "exp_expansion = sp.series(sp.exp(x), x, 0, 8).removeO()\n",
    "print(f\"exp(x) = {exp_expansion}\")"
   ]
  },
  {
   "cell_type": "code",
   "execution_count": 10,
   "id": "9c067e0d-81ba-465c-adb5-7b2de4c0baa7",
   "metadata": {},
   "outputs": [
    {
     "data": {
      "text/latex": [
       "$\\displaystyle sin(x) = - \\frac{x^{7}}{5040} + \\frac{x^{5}}{120} - \\frac{x^{3}}{6} + x + \\mathcal{O}(x^8)$"
      ],
      "text/plain": [
       "<IPython.core.display.Math object>"
      ]
     },
     "metadata": {},
     "output_type": "display_data"
    },
    {
     "data": {
      "text/latex": [
       "$\\displaystyle cos(x) = - \\frac{x^{6}}{720} + \\frac{x^{4}}{24} - \\frac{x^{2}}{2} + 1 + \\mathcal{O}(x^8)$"
      ],
      "text/plain": [
       "<IPython.core.display.Math object>"
      ]
     },
     "metadata": {},
     "output_type": "display_data"
    },
    {
     "data": {
      "text/latex": [
       "$\\displaystyle exp(x) = \\frac{x^{7}}{5040} + \\frac{x^{6}}{720} + \\frac{x^{5}}{120} + \\frac{x^{4}}{24} + \\frac{x^{3}}{6} + \\frac{x^{2}}{2} + x + 1 + \\mathcal{O}(x^8)$"
      ],
      "text/plain": [
       "<IPython.core.display.Math object>"
      ]
     },
     "metadata": {},
     "output_type": "display_data"
    }
   ],
   "source": [
    "import sympy as sp\n",
    "from IPython.display import display, Math\n",
    "\n",
    "x = sp.symbols('x')\n",
    "\n",
    "# Функции для разложения\n",
    "functions = {\n",
    "    'sin(x)': sp.sin(x),\n",
    "    'cos(x)': sp.cos(x),\n",
    "    'exp(x)': sp.exp(x)\n",
    "}\n",
    "\n",
    "# Генерация красивого вывода\n",
    "for name, func in functions.items():\n",
    "    series = sp.series(func, x, 0, 8).removeO()\n",
    "    latex_code = sp.latex(series)\n",
    "    display(Math(f'{name} = {latex_code} + \\\\mathcal{{O}}(x^8)'))"
   ]
  },
  {
   "cell_type": "markdown",
   "id": "c4d7e58f-8a0a-46e2-baa0-8d1863306331",
   "metadata": {},
   "source": [
    "###  Задача 8"
   ]
  },
  {
   "cell_type": "code",
   "execution_count": 15,
   "id": "ba017954-0be9-4513-9cbe-eec382f00762",
   "metadata": {},
   "outputs": [
    {
     "name": "stdout",
     "output_type": "stream",
     "text": [
      "Символьная матрица A:\n",
      " Matrix([[a11, a12], [a21, a22]])\n",
      "\n",
      "exp(A) (первые члены ряда):\n",
      " Matrix([[a11**2/2 + a11*(a11**2 + a12*a21)/6 + a11*(a11*(a11**2 + a12*a21) + a21*(a11*a12 + a12*a22))/24 + a11 + a12*a21/2 + a21*(a11*a12 + a12*a22)/6 + a21*(a12*(a11**2 + a12*a21) + a22*(a11*a12 + a12*a22))/24 + 1, a11*a12/2 + a12*a22/2 + a12*(a11**2 + a12*a21)/6 + a12*(a11*(a11**2 + a12*a21) + a21*(a11*a12 + a12*a22))/24 + a12 + a22*(a11*a12 + a12*a22)/6 + a22*(a12*(a11**2 + a12*a21) + a22*(a11*a12 + a12*a22))/24], [a11*a21/2 + a11*(a11*a21 + a21*a22)/6 + a11*(a11*(a11*a21 + a21*a22) + a21*(a12*a21 + a22**2))/24 + a21*a22/2 + a21*(a12*a21 + a22**2)/6 + a21*(a12*(a11*a21 + a21*a22) + a22*(a12*a21 + a22**2))/24 + a21, a12*a21/2 + a12*(a11*a21 + a21*a22)/6 + a12*(a11*(a11*a21 + a21*a22) + a21*(a12*a21 + a22**2))/24 + a22**2/2 + a22*(a12*a21 + a22**2)/6 + a22*(a12*(a11*a21 + a21*a22) + a22*(a12*a21 + a22**2))/24 + a22 + 1]])\n",
      "\n",
      "sin(A) (первые члены ряда):\n",
      " Matrix([[-a11*(a11**2 + a12*a21)/6 + a11 - a21*(a11*a12 + a12*a22)/6, -a12*(a11**2 + a12*a21)/6 + a12 - a22*(a11*a12 + a12*a22)/6], [-a11*(a11*a21 + a21*a22)/6 - a21*(a12*a21 + a22**2)/6 + a21, -a12*(a11*a21 + a21*a22)/6 - a22*(a12*a21 + a22**2)/6 + a22]])\n",
      "\n",
      "cos(A) (первые члены ряда):\n",
      " Matrix([[-a11**2/2 + a11*(a11*(a11**2 + a12*a21) + a21*(a11*a12 + a12*a22))/24 - a12*a21/2 + a21*(a12*(a11**2 + a12*a21) + a22*(a11*a12 + a12*a22))/24 + 1, -a11*a12/2 - a12*a22/2 + a12*(a11*(a11**2 + a12*a21) + a21*(a11*a12 + a12*a22))/24 + a22*(a12*(a11**2 + a12*a21) + a22*(a11*a12 + a12*a22))/24], [-a11*a21/2 + a11*(a11*(a11*a21 + a21*a22) + a21*(a12*a21 + a22**2))/24 - a21*a22/2 + a21*(a12*(a11*a21 + a21*a22) + a22*(a12*a21 + a22**2))/24, -a12*a21/2 + a12*(a11*(a11*a21 + a21*a22) + a21*(a12*a21 + a22**2))/24 - a22**2/2 + a22*(a12*(a11*a21 + a21*a22) + a22*(a12*a21 + a22**2))/24 + 1]])\n",
      "\n",
      "Численная матрица A:\n",
      " [[5 7 4]\n",
      " [1 2 1]\n",
      " [3 1 4]]\n",
      "\n",
      "exp(A):\n",
      " [[4856.4425 5457.6584 4853.7242]\n",
      " [1111.0819 1250.2657 1111.0819]\n",
      " [3060.3145 3430.9966 3063.0328]]\n",
      "\n",
      "sin(A):\n",
      " [[ 0.3734  0.9555 -0.468 ]\n",
      " [-0.0572  0.7045 -0.0572]\n",
      " [-0.0121 -1.413   0.8294]]\n",
      "\n",
      "cos(A):\n",
      " [[-0.0068 -2.6359 -0.5471]\n",
      " [-0.1933  0.4224 -0.1933]\n",
      " [-0.7309  1.0891 -0.1906]]\n"
     ]
    }
   ],
   "source": [
    "# Решение для матрицы 2x2 (символьной)\n",
    "def symbolic_matrix_functions():\n",
    "    a11, a12, a21, a22 = sp.symbols('a11 a12 a21 a22')\n",
    "    A = sp.Matrix([[a11, a12], [a21, a22]])\n",
    "    \n",
    "    # Ручное разложение в ряд Тейлора для матричных функций\n",
    "    n_terms = 5  # Число членов ряда\n",
    "    \n",
    "    # exp(A) = I + A + A²/2! + A³/3! + A⁴/4!\n",
    "    exp_A = sp.zeros(2, 2)\n",
    "    term = sp.eye(2)\n",
    "    for k in range(n_terms):\n",
    "        exp_A += term / sp.factorial(k)\n",
    "        term = term * A\n",
    "    \n",
    "    # sin(A) = A - A³/3! + A⁵/5!\n",
    "    sin_A = sp.zeros(2, 2)\n",
    "    term = A\n",
    "    sign = 1\n",
    "    for k in range(1, n_terms, 2):\n",
    "        sin_A += sign * term / sp.factorial(k)\n",
    "        term = term * A * A\n",
    "        sign *= -1\n",
    "    \n",
    "    # cos(A) = I - A²/2! + A⁴/4!\n",
    "    cos_A = sp.eye(2)\n",
    "    term = A * A\n",
    "    sign = -1\n",
    "    for k in range(2, n_terms, 2):\n",
    "        cos_A += sign * term / sp.factorial(k)\n",
    "        term = term * A * A\n",
    "        sign *= -1\n",
    "    \n",
    "    print(\"Символьная матрица A:\\n\", A)\n",
    "    print(\"\\nexp(A) (первые члены ряда):\\n\", exp_A)\n",
    "    print(\"\\nsin(A) (первые члены ряда):\\n\", sin_A)\n",
    "    print(\"\\ncos(A) (первые члены ряда):\\n\", cos_A)\n",
    "\n",
    "# Решение для матрицы 3x3 (численной)\n",
    "def numeric_matrix_functions():\n",
    "    A = np.array([[5, 7, 4],\n",
    "                  [1, 2, 1],\n",
    "                  [3, 1, 4]])\n",
    "    \n",
    "    # Вычисление через scipy (точные значения)\n",
    "    exp_A = expm(A)\n",
    "    sin_A = sinm(A)\n",
    "    cos_A = cosm(A)\n",
    "    \n",
    "    print(\"\\nЧисленная матрица A:\\n\", A)\n",
    "    print(\"\\nexp(A):\\n\", np.round(exp_A, 4))\n",
    "    print(\"\\nsin(A):\\n\", np.round(sin_A, 4))\n",
    "    print(\"\\ncos(A):\\n\", np.round(cos_A, 4))\n",
    "\n",
    "# Запуск вычислений\n",
    "symbolic_matrix_functions()\n",
    "numeric_matrix_functions()"
   ]
  },
  {
   "cell_type": "code",
   "execution_count": null,
   "id": "2f07e530-0271-40b4-ad63-dd1760913dad",
   "metadata": {},
   "outputs": [],
   "source": []
  }
 ],
 "metadata": {
  "kernelspec": {
   "display_name": "Python 3 (ipykernel)",
   "language": "python",
   "name": "python3"
  },
  "language_info": {
   "codemirror_mode": {
    "name": "ipython",
    "version": 3
   },
   "file_extension": ".py",
   "mimetype": "text/x-python",
   "name": "python",
   "nbconvert_exporter": "python",
   "pygments_lexer": "ipython3",
   "version": "3.8.10"
  }
 },
 "nbformat": 4,
 "nbformat_minor": 5
}
