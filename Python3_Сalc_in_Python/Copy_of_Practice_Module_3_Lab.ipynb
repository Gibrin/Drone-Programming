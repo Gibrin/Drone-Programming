{
  "nbformat": 4,
  "nbformat_minor": 0,
  "metadata": {
    "colab": {
      "provenance": []
    },
    "kernelspec": {
      "name": "python3",
      "display_name": "Python 3"
    },
    "language_info": {
      "name": "python"
    }
  },
  "cells": [
    {
      "cell_type": "markdown",
      "source": [
        "*Курсив*# Практическая работа. Модуль 3\n",
        "\n",
        "В этой практической работе мы рассмотрим применение символьных и численных расчётов при помощи Python и его библиотек (SymPy, NumPy, SciPy).\n",
        "\n",
        "Не забудьте запустить следующую ячейку, чтобы импортировать библиотеки."
      ],
      "metadata": {
        "id": "sBkd3_lmgQ3-"
      }
    },
    {
      "cell_type": "code",
      "source": [
        "import numpy as np\n",
        "import sympy\n",
        "import scipy\n",
        "import matplotlib.pyplot as plt"
      ],
      "metadata": {
        "id": "CbhWGI10QTbK"
      },
      "execution_count": 2,
      "outputs": []
    },
    {
      "cell_type": "markdown",
      "source": [
        "## Задание 1. Создание массивов\n",
        "\n",
        "Для начала попробуем создать NumPy-массив, в котором будет четыре элемента: -1, 3, -2, 5."
      ],
      "metadata": {
        "id": "9r6yOexfglPs"
      }
    },
    {
      "cell_type": "code",
      "execution_count": 3,
      "metadata": {
        "id": "9qCRJ00LgJnv",
        "colab": {
          "base_uri": "https://localhost:8080/"
        },
        "outputId": "df58a19e-f1bd-464d-ad2d-814c868955eb"
      },
      "outputs": [
        {
          "output_type": "stream",
          "name": "stdout",
          "text": [
            "[-1  3 -2  5]\n"
          ]
        }
      ],
      "source": [
        "# Создаём массив\n",
        "arr = np.array([-1, 3, -2, 5])\n",
        "\n",
        "# Выводим массив на экран\n",
        "print(arr)"
      ]
    },
    {
      "cell_type": "markdown",
      "source": [
        "Попробуем найти сумму и произведение элементов этого массива. Для этого запустите ячейку ниже."
      ],
      "metadata": {
        "id": "4lqUeEQ0iU_U"
      }
    },
    {
      "cell_type": "code",
      "source": [
        "print(f\"Сумма элементов массива = {np.sum(arr)}\")\n",
        "print(f\"Произведение элементов массива = {np.prod(arr)}\")"
      ],
      "metadata": {
        "id": "52MbAF1Vhvn3",
        "colab": {
          "base_uri": "https://localhost:8080/"
        },
        "outputId": "a7e8f81e-6fc5-43ea-f17d-20d43233bc64"
      },
      "execution_count": 4,
      "outputs": [
        {
          "output_type": "stream",
          "name": "stdout",
          "text": [
            "Сумма элементов массива = 5\n",
            "Произведение элементов массива = 30\n"
          ]
        }
      ]
    },
    {
      "cell_type": "markdown",
      "source": [
        "Вывод ячейки должен выглядеть следующим образом:\n",
        "\n",
        "Сумма элементов массива = 5\n",
        "\n",
        "Произведение элементов массива = 30"
      ],
      "metadata": {
        "id": "QFSRJzMGjA22"
      }
    },
    {
      "cell_type": "markdown",
      "source": [
        "Замечательная особенность этих массивов — возможность применять обычные операции как покомпонентные. Например, мы можем найти квадраты всех элементов массива путём возведения его в степень по обычным синтаксическим правилам Python."
      ],
      "metadata": {
        "id": "-iqGhgPIj040"
      }
    },
    {
      "cell_type": "code",
      "source": [
        "squared_array = arr**2\n",
        "print(squared_array)"
      ],
      "metadata": {
        "id": "GjoGCdIojISV",
        "colab": {
          "base_uri": "https://localhost:8080/"
        },
        "outputId": "b4ec6c58-4e48-41e6-bec6-9829a83b2739"
      },
      "execution_count": 5,
      "outputs": [
        {
          "output_type": "stream",
          "name": "stdout",
          "text": [
            "[ 1  9  4 25]\n"
          ]
        }
      ]
    },
    {
      "cell_type": "markdown",
      "source": [
        "Запустите эту ячейку, чтобы вычислить squared_error. Затем найдите сумму квадратов элементов массива и выведите её в таком же формате, как и в ячейке выше."
      ],
      "metadata": {
        "id": "jn8Dp5kckDkh"
      }
    },
    {
      "cell_type": "code",
      "source": [
        "print(f\"Сумма элементов массива = {np.sum(squared_array)}\")"
      ],
      "metadata": {
        "id": "aokOpacckBaJ",
        "colab": {
          "base_uri": "https://localhost:8080/"
        },
        "outputId": "25a17f24-3fcd-4e24-8589-c9631a2cc71d"
      },
      "execution_count": 6,
      "outputs": [
        {
          "output_type": "stream",
          "name": "stdout",
          "text": [
            "Сумма элементов массива = 39\n"
          ]
        }
      ]
    },
    {
      "cell_type": "markdown",
      "source": [
        "Вывод ячейки должен составлять:\n",
        "\n",
        "Сумма элементов массива = 39"
      ],
      "metadata": {
        "id": "J_BRR46AksNA"
      }
    },
    {
      "cell_type": "markdown",
      "source": [
        "## Задание 2. Случайные массивы\n",
        "\n",
        "Ещё один способ создания массивов состоит в использовании случайных чисел. Библиотека NumPy поддерживает пакет random, позволяющий генерировать наборы чисел случайным образом из различных вероятностных распределений.\n",
        "\n",
        "Рассмотрим пример создания массива из пяти целых чисел в отрезке [-10, 10]."
      ],
      "metadata": {
        "id": "6m3mZr8iODBl"
      }
    },
    {
      "cell_type": "code",
      "source": [
        "rand_arr = np.random.randint(low=-10, high=10, size=5)\n",
        "print(rand_arr)"
      ],
      "metadata": {
        "id": "-ZQFeWSFklTp",
        "colab": {
          "base_uri": "https://localhost:8080/"
        },
        "outputId": "c719532a-4d91-43f9-85dc-06ade1a295c5"
      },
      "execution_count": 7,
      "outputs": [
        {
          "output_type": "stream",
          "name": "stdout",
          "text": [
            "[ 5 -7  4 -8 -9]\n"
          ]
        }
      ]
    },
    {
      "cell_type": "markdown",
      "source": [
        "Такой подход позволяет в том числе создавать случайные массивы, обладающие определёнными свойствами. Например, мы можем сгенерировать массив, сумма элементов которого равна нулю. Вот как это можно сделать:"
      ],
      "metadata": {
        "id": "1sPWy_oVRrh3"
      }
    },
    {
      "cell_type": "code",
      "source": [
        "while True:\n",
        "  rand_arr = np.random.randint(low=-10, high=10, size=5)\n",
        "  if np.sum(rand_arr) == 0:\n",
        "    break\n",
        "print(\"Случайный массив:\", rand_arr)\n",
        "print(\"Сумма элементов:\", np.sum(rand_arr))"
      ],
      "metadata": {
        "colab": {
          "base_uri": "https://localhost:8080/"
        },
        "id": "94rbSjO5RqlG",
        "outputId": "3dc5e402-1697-494e-e136-2e186c892aa3"
      },
      "execution_count": 8,
      "outputs": [
        {
          "output_type": "stream",
          "name": "stdout",
          "text": [
            "Случайный массив: [ 2  8  0 -9 -1]\n",
            "Сумма элементов: 0\n"
          ]
        }
      ]
    },
    {
      "cell_type": "markdown",
      "source": [
        "Запустите эту ячейку множество раз, и вы увидите, что каждый раз с большой долей вероятности вы будете получать разные массивы, но их общее свойство будет сохраняться."
      ],
      "metadata": {
        "id": "5f3znIrVUH0l"
      }
    },
    {
      "cell_type": "markdown",
      "source": [
        "## Задание 3. Случайные матрицы\n",
        "\n",
        "Теперь попробуем таким же образом сгенерировать матрицу (двумерный массив) таким образом, что её определитель будет равен единице.\n",
        "\n",
        "Построенная матрица должна быть пятого порядка. Для этого в аргумент size нужно передать кортеж (5,5). Для увеличения скорости поиска матрицы с нужными свойствами рекомендуется выбирать случайные числа из отрезка [-2, 2].\n",
        "\n",
        "Для вычисления самого определителя необходимо воспользоваться функцией np.linalg.det(matrix)."
      ],
      "metadata": {
        "id": "I_UEsTiMk5nw"
      }
    },
    {
      "cell_type": "code",
      "source": [
        "while True:\n",
        "  matrix = np.random.randint(low=-2, high=2, size=(5,5))\n",
        "  if np.linalg.det(matrix) == 1:\n",
        "    break\n",
        "print(\"Случайная матрица:\\n\", matrix)\n",
        "print(\"Определитель матрицы:\", np.linalg.det(matrix))"
      ],
      "metadata": {
        "colab": {
          "base_uri": "https://localhost:8080/"
        },
        "id": "fzWNZb7QRcZa",
        "outputId": "6a9b6be2-1c99-450f-add2-1ba296e24fef"
      },
      "execution_count": 14,
      "outputs": [
        {
          "output_type": "stream",
          "name": "stdout",
          "text": [
            "Случайная матрица:\n",
            " [[ 0  0 -1 -2  1]\n",
            " [ 1 -2 -2 -1  0]\n",
            " [ 0  0  1  0 -2]\n",
            " [ 1 -2 -1 -2 -2]\n",
            " [ 1 -1 -2 -2 -2]]\n",
            "Определитель матрицы: 1.0\n"
          ]
        }
      ]
    },
    {
      "cell_type": "markdown",
      "source": [
        "Кроме того, пользуясь возможностями библиотеки (метод np.linalg.inv()), мы можем найти обратную матрицу к matrix."
      ],
      "metadata": {
        "id": "QSUE62bdZkX1"
      }
    },
    {
      "cell_type": "code",
      "source": [
        "matrix_inv = np.linalg.inv(matrix)\n",
        "print(\"Обратная матрица:\\n\", matrix_inv)"
      ],
      "metadata": {
        "colab": {
          "base_uri": "https://localhost:8080/"
        },
        "id": "xpwbyBeJREWV",
        "outputId": "0985aa94-8e5b-493b-a8bd-74177089e246"
      },
      "execution_count": 15,
      "outputs": [
        {
          "output_type": "stream",
          "name": "stdout",
          "text": [
            "Обратная матрица:\n",
            " [[ -8. -14. -19.  13.   2.]\n",
            " [ -2.  -4.  -5.   3.   1.]\n",
            " [ -2.  -4.  -5.   4.   0.]\n",
            " [ -0.   1.   1.  -1.  -0.]\n",
            " [ -1.  -2.  -3.   2.   0.]]\n"
          ]
        }
      ]
    },
    {
      "cell_type": "markdown",
      "source": [
        "По свойствам умножения матриц их произведение должно дать единичную матрицу. Убедимся в этом.\n",
        "\n",
        "Воспользуйтесь методом A.dot(B), который выполняет умножение AxB."
      ],
      "metadata": {
        "id": "7TYz6MFVaRvo"
      }
    },
    {
      "cell_type": "code",
      "source": [
        "result = matrix.dot(matrix_inv)  # Умножаем matrix на matrix_inv\n",
        "print(result)"
      ],
      "metadata": {
        "id": "Y5BDKfksaAM3",
        "colab": {
          "base_uri": "https://localhost:8080/"
        },
        "outputId": "23507567-e7ea-4138-e12f-842a033a42d2"
      },
      "execution_count": 16,
      "outputs": [
        {
          "output_type": "stream",
          "name": "stdout",
          "text": [
            "[[1. 0. 0. 0. 0.]\n",
            " [0. 1. 0. 0. 0.]\n",
            " [0. 0. 1. 0. 0.]\n",
            " [0. 0. 0. 1. 0.]\n",
            " [0. 0. 0. 0. 1.]]\n"
          ]
        }
      ]
    },
    {
      "cell_type": "markdown",
      "source": [
        "Обратите внимание, что из-за ограниченности памяти типов данных, которые использует NumPy, могут возникать небольшие отличия от нуля вне диагональных элементов порядка 1e-15."
      ],
      "metadata": {
        "id": "-ROqFddmavBq"
      }
    },
    {
      "cell_type": "markdown",
      "source": [
        "## Задание 4. Матрицы SymPy\n",
        "\n",
        "Библиотека NumPy преимущественно подходит к операциям с точки зрения численных методов. В противоположность ей библиотека SymPy позволяет работать с математическими объектами с точки зрения символьных вычислений.\n",
        "\n",
        "С этими двумя библиотеками можно работать в связке при помощи преобразования типов. Например, уже полученную с помощью случайных чисел матрицу мы можем преобразовать в матричный тип библиотеки SymPy."
      ],
      "metadata": {
        "id": "HqOJVekDlBfU"
      }
    },
    {
      "cell_type": "code",
      "source": [
        "sympy_matrix = sympy.Matrix(matrix)\n",
        "sympy_matrix"
      ],
      "metadata": {
        "id": "QjT3-ABeaW5W",
        "colab": {
          "base_uri": "https://localhost:8080/",
          "height": 119
        },
        "outputId": "5fe680d6-cf08-435b-d181-bc518654b0af"
      },
      "execution_count": 17,
      "outputs": [
        {
          "output_type": "execute_result",
          "data": {
            "text/plain": [
              "Matrix([\n",
              "[0,  0, -1, -2,  1],\n",
              "[1, -2, -2, -1,  0],\n",
              "[0,  0,  1,  0, -2],\n",
              "[1, -2, -1, -2, -2],\n",
              "[1, -1, -2, -2, -2]])"
            ],
            "text/latex": "$\\displaystyle \\left[\\begin{matrix}0 & 0 & -1 & -2 & 1\\\\1 & -2 & -2 & -1 & 0\\\\0 & 0 & 1 & 0 & -2\\\\1 & -2 & -1 & -2 & -2\\\\1 & -1 & -2 & -2 & -2\\end{matrix}\\right]$"
          },
          "metadata": {},
          "execution_count": 17
        }
      ]
    },
    {
      "cell_type": "markdown",
      "source": [
        "Можно заметить, что вывод матрицы при помощи SymPy более красивый. Вместе с тем с ними можно выполнять те же самые операции. Например, возведём эту матрицу в квадрат. Для этого можно воспользоваться стандартной операцией возведения в степень при помощи оператора «двойная звёздочка»."
      ],
      "metadata": {
        "id": "k3q5lpc7mNoy"
      }
    },
    {
      "cell_type": "code",
      "source": [
        "squared_matrix = sympy_matrix ** 2\n",
        "squared_matrix"
      ],
      "metadata": {
        "id": "EJeRfn9gmKxC",
        "colab": {
          "base_uri": "https://localhost:8080/",
          "height": 119
        },
        "outputId": "b6cb852b-c0d5-4624-9b9e-17a201764726"
      },
      "execution_count": 18,
      "outputs": [
        {
          "output_type": "execute_result",
          "data": {
            "text/plain": [
              "Matrix([\n",
              "[-1,  3, -1, 2,  4],\n",
              "[-3,  6,  2, 2,  7],\n",
              "[-2,  2,  5, 4,  2],\n",
              "[-6, 10,  8, 8, 11],\n",
              "[-5,  8,  5, 7, 13]])"
            ],
            "text/latex": "$\\displaystyle \\left[\\begin{matrix}-1 & 3 & -1 & 2 & 4\\\\-3 & 6 & 2 & 2 & 7\\\\-2 & 2 & 5 & 4 & 2\\\\-6 & 10 & 8 & 8 & 11\\\\-5 & 8 & 5 & 7 & 13\\end{matrix}\\right]$"
          },
          "metadata": {},
          "execution_count": 18
        }
      ]
    },
    {
      "cell_type": "markdown",
      "source": [
        "Мы также можем найти определитель матрицы. Например, для новой матрицы squared_matrix. Для этого воспользуемся методом A.det(), где A — это наша матрица."
      ],
      "metadata": {
        "id": "AW-tZ5Tsm1ZI"
      }
    },
    {
      "cell_type": "code",
      "source": [
        "det_squared_matrix = squared_matrix.det()\n",
        "det_squared_matrix"
      ],
      "metadata": {
        "colab": {
          "base_uri": "https://localhost:8080/",
          "height": 37
        },
        "id": "uFVI9NU5mHgL",
        "outputId": "bb18a1f8-f63b-4422-c055-e648d2d6e8f8"
      },
      "execution_count": 19,
      "outputs": [
        {
          "output_type": "execute_result",
          "data": {
            "text/plain": [
              "1"
            ],
            "text/latex": "$\\displaystyle 1$"
          },
          "metadata": {},
          "execution_count": 19
        }
      ]
    },
    {
      "cell_type": "markdown",
      "source": [
        "Определитель этой матрицы вновь получился равным единице! Это одно из замечательных свойств матриц, благодаря которому определитель произведения матриц равен произведению определителей. Если определитель матрицы равен единице, то и определитель квадрата матрицы тоже будет равен единице.\n",
        "\n",
        "Найдём теперь обратную матрицу при помощи метода A.inv(), где A — это наша матрица."
      ],
      "metadata": {
        "id": "XkybzdbBm1es"
      }
    },
    {
      "cell_type": "code",
      "source": [
        "inv_squared_matrix = squared_matrix.inv()\n",
        "inv_squared_matrix"
      ],
      "metadata": {
        "id": "9MdE7yFUnYd1",
        "colab": {
          "base_uri": "https://localhost:8080/",
          "height": 119
        },
        "outputId": "05ec232e-e035-4126-e6ab-47c1d6c64d72"
      },
      "execution_count": 20,
      "outputs": [
        {
          "output_type": "execute_result",
          "data": {
            "text/plain": [
              "Matrix([\n",
              "[128, 253, 324, -231, -30],\n",
              "[ 33,  65,  83,  -59,  -8],\n",
              "[ 34,  68,  87,  -62,  -8],\n",
              "[ -4,  -9, -11,    8,   1],\n",
              "[ 18,  36,  46,  -33,  -4]])"
            ],
            "text/latex": "$\\displaystyle \\left[\\begin{matrix}128 & 253 & 324 & -231 & -30\\\\33 & 65 & 83 & -59 & -8\\\\34 & 68 & 87 & -62 & -8\\\\-4 & -9 & -11 & 8 & 1\\\\18 & 36 & 46 & -33 & -4\\end{matrix}\\right]$"
          },
          "metadata": {},
          "execution_count": 20
        }
      ]
    },
    {
      "cell_type": "markdown",
      "source": [
        "И наконец, проверим, что произведение матрицы на обратную к ней даст нам единичную матрицу. С матрицами типа Matrix библиотеки SymPy умножение производится при помощи обычного символа умножения «*»."
      ],
      "metadata": {
        "id": "5RrrJmxCnwyE"
      }
    },
    {
      "cell_type": "code",
      "source": [
        "result = inv_squared_matrix * squared_matrix\n",
        "result"
      ],
      "metadata": {
        "id": "2T4Ng2mVnrDD",
        "colab": {
          "base_uri": "https://localhost:8080/",
          "height": 119
        },
        "outputId": "bd35b0cf-f918-4062-ab7f-d67ce087a2c3"
      },
      "execution_count": 21,
      "outputs": [
        {
          "output_type": "execute_result",
          "data": {
            "text/plain": [
              "Matrix([\n",
              "[1, 0, 0, 0, 0],\n",
              "[0, 1, 0, 0, 0],\n",
              "[0, 0, 1, 0, 0],\n",
              "[0, 0, 0, 1, 0],\n",
              "[0, 0, 0, 0, 1]])"
            ],
            "text/latex": "$\\displaystyle \\left[\\begin{matrix}1 & 0 & 0 & 0 & 0\\\\0 & 1 & 0 & 0 & 0\\\\0 & 0 & 1 & 0 & 0\\\\0 & 0 & 0 & 1 & 0\\\\0 & 0 & 0 & 0 & 1\\end{matrix}\\right]$"
          },
          "metadata": {},
          "execution_count": 21
        }
      ]
    },
    {
      "cell_type": "markdown",
      "source": [
        "## Задание 5. О визуализации\n",
        "\n",
        "Чтобы продемонстрировать следующее задание, сначала построим графики. Но для этого нам вновь необходимо воспользоваться методами NumPy.\n",
        "\n",
        "Мы построим график двух фигур. Первая фигура — это окружность с радиусом, равным единице, и центром в начале координат. Координаты точек $(x,y)$ окружности удовлетворяют уравнению $x^2+y^2=1$, но мы определим их из следующих равенств:\n",
        "\n",
        "$\\begin{cases}\n",
        "x = \\cosφ \\\\\n",
        "y = \\sinφ\n",
        "\\end{cases},$\n",
        "\n",
        "где $φ$ означает угол, отсчитываемый от положительного направления оси Ox. Определяя значения угла от $0$ до $2\\pi$, можно обойти всю окружность.\n",
        "\n",
        "Следовательно, наша первая задача — сделать равномерную сетку значений угла. Мы можем это сделать при помощи функции np.linspace(). Запустите следующую ячейку."
      ],
      "metadata": {
        "id": "ANus2Oc5os7F"
      }
    },
    {
      "cell_type": "code",
      "source": [
        "phi = np.linspace(0, 2*np.pi, 100)\n",
        "phi"
      ],
      "metadata": {
        "id": "Sj9gK-4MosN6",
        "colab": {
          "base_uri": "https://localhost:8080/"
        },
        "outputId": "0c16aef9-470a-407d-b75c-1552870284e5"
      },
      "execution_count": 22,
      "outputs": [
        {
          "output_type": "execute_result",
          "data": {
            "text/plain": [
              "array([0.        , 0.06346652, 0.12693304, 0.19039955, 0.25386607,\n",
              "       0.31733259, 0.38079911, 0.44426563, 0.50773215, 0.57119866,\n",
              "       0.63466518, 0.6981317 , 0.76159822, 0.82506474, 0.88853126,\n",
              "       0.95199777, 1.01546429, 1.07893081, 1.14239733, 1.20586385,\n",
              "       1.26933037, 1.33279688, 1.3962634 , 1.45972992, 1.52319644,\n",
              "       1.58666296, 1.65012947, 1.71359599, 1.77706251, 1.84052903,\n",
              "       1.90399555, 1.96746207, 2.03092858, 2.0943951 , 2.15786162,\n",
              "       2.22132814, 2.28479466, 2.34826118, 2.41172769, 2.47519421,\n",
              "       2.53866073, 2.60212725, 2.66559377, 2.72906028, 2.7925268 ,\n",
              "       2.85599332, 2.91945984, 2.98292636, 3.04639288, 3.10985939,\n",
              "       3.17332591, 3.23679243, 3.30025895, 3.36372547, 3.42719199,\n",
              "       3.4906585 , 3.55412502, 3.61759154, 3.68105806, 3.74452458,\n",
              "       3.8079911 , 3.87145761, 3.93492413, 3.99839065, 4.06185717,\n",
              "       4.12532369, 4.1887902 , 4.25225672, 4.31572324, 4.37918976,\n",
              "       4.44265628, 4.5061228 , 4.56958931, 4.63305583, 4.69652235,\n",
              "       4.75998887, 4.82345539, 4.88692191, 4.95038842, 5.01385494,\n",
              "       5.07732146, 5.14078798, 5.2042545 , 5.26772102, 5.33118753,\n",
              "       5.39465405, 5.45812057, 5.52158709, 5.58505361, 5.64852012,\n",
              "       5.71198664, 5.77545316, 5.83891968, 5.9023862 , 5.96585272,\n",
              "       6.02931923, 6.09278575, 6.15625227, 6.21971879, 6.28318531])"
            ]
          },
          "metadata": {},
          "execution_count": 22
        }
      ]
    },
    {
      "cell_type": "markdown",
      "source": [
        "Затем при помощи этого угла нам нужно определить значения самих точек окружности. Вспомним, что NumPy изначально подразумевает некоторые основы функционального программирования и стандартные функции в нём векторизованы. Иными словами, при передаче аргумента-массива в функцию NumPy мы получим результат, также являющийся массивом из элементов, каждый из которых получен путём применения функции. Схожим образом действует функция map, о которой мы говорили ранее."
      ],
      "metadata": {
        "id": "r3jko8epqVrM"
      }
    },
    {
      "cell_type": "code",
      "source": [
        "x_circle = np.cos(phi)\n",
        "y_circle = np.sin(phi)\n",
        "print(\"x-координаты точек окружности:\\n\", x_circle)\n",
        "print(\"y-координаты точек окружности:\\n\", y_circle)"
      ],
      "metadata": {
        "id": "dvLQzGChocYY",
        "colab": {
          "base_uri": "https://localhost:8080/"
        },
        "outputId": "e420fec0-3063-428c-ce7c-34189d1233d2"
      },
      "execution_count": 24,
      "outputs": [
        {
          "output_type": "stream",
          "name": "stdout",
          "text": [
            "x-координаты точек окружности:\n",
            " [ 1.          0.99798668  0.99195481  0.9819287   0.9679487   0.95007112\n",
            "  0.92836793  0.90292654  0.87384938  0.84125353  0.80527026  0.76604444\n",
            "  0.72373404  0.67850941  0.63055267  0.58005691  0.52722547  0.47227107\n",
            "  0.41541501  0.35688622  0.29692038  0.23575894  0.17364818  0.1108382\n",
            "  0.04758192 -0.01586596 -0.07924996 -0.14231484 -0.20480667 -0.26647381\n",
            " -0.32706796 -0.38634513 -0.44406661 -0.5        -0.55392006 -0.60560969\n",
            " -0.65486073 -0.70147489 -0.74526445 -0.78605309 -0.82367658 -0.85798341\n",
            " -0.88883545 -0.91610846 -0.93969262 -0.95949297 -0.97542979 -0.98743889\n",
            " -0.99547192 -0.99949654 -0.99949654 -0.99547192 -0.98743889 -0.97542979\n",
            " -0.95949297 -0.93969262 -0.91610846 -0.88883545 -0.85798341 -0.82367658\n",
            " -0.78605309 -0.74526445 -0.70147489 -0.65486073 -0.60560969 -0.55392006\n",
            " -0.5        -0.44406661 -0.38634513 -0.32706796 -0.26647381 -0.20480667\n",
            " -0.14231484 -0.07924996 -0.01586596  0.04758192  0.1108382   0.17364818\n",
            "  0.23575894  0.29692038  0.35688622  0.41541501  0.47227107  0.52722547\n",
            "  0.58005691  0.63055267  0.67850941  0.72373404  0.76604444  0.80527026\n",
            "  0.84125353  0.87384938  0.90292654  0.92836793  0.95007112  0.9679487\n",
            "  0.9819287   0.99195481  0.99798668  1.        ]\n",
            "y-координаты точек окружности:\n",
            " [ 0.00000000e+00  6.34239197e-02  1.26592454e-01  1.89251244e-01\n",
            "  2.51147987e-01  3.12033446e-01  3.71662456e-01  4.29794912e-01\n",
            "  4.86196736e-01  5.40640817e-01  5.92907929e-01  6.42787610e-01\n",
            "  6.90079011e-01  7.34591709e-01  7.76146464e-01  8.14575952e-01\n",
            "  8.49725430e-01  8.81453363e-01  9.09631995e-01  9.34147860e-01\n",
            "  9.54902241e-01  9.71811568e-01  9.84807753e-01  9.93838464e-01\n",
            "  9.98867339e-01  9.99874128e-01  9.96854776e-01  9.89821442e-01\n",
            "  9.78802446e-01  9.63842159e-01  9.45000819e-01  9.22354294e-01\n",
            "  8.95993774e-01  8.66025404e-01  8.32569855e-01  7.95761841e-01\n",
            "  7.55749574e-01  7.12694171e-01  6.66769001e-01  6.18158986e-01\n",
            "  5.67059864e-01  5.13677392e-01  4.58226522e-01  4.00930535e-01\n",
            "  3.42020143e-01  2.81732557e-01  2.20310533e-01  1.58001396e-01\n",
            "  9.50560433e-02  3.17279335e-02 -3.17279335e-02 -9.50560433e-02\n",
            " -1.58001396e-01 -2.20310533e-01 -2.81732557e-01 -3.42020143e-01\n",
            " -4.00930535e-01 -4.58226522e-01 -5.13677392e-01 -5.67059864e-01\n",
            " -6.18158986e-01 -6.66769001e-01 -7.12694171e-01 -7.55749574e-01\n",
            " -7.95761841e-01 -8.32569855e-01 -8.66025404e-01 -8.95993774e-01\n",
            " -9.22354294e-01 -9.45000819e-01 -9.63842159e-01 -9.78802446e-01\n",
            " -9.89821442e-01 -9.96854776e-01 -9.99874128e-01 -9.98867339e-01\n",
            " -9.93838464e-01 -9.84807753e-01 -9.71811568e-01 -9.54902241e-01\n",
            " -9.34147860e-01 -9.09631995e-01 -8.81453363e-01 -8.49725430e-01\n",
            " -8.14575952e-01 -7.76146464e-01 -7.34591709e-01 -6.90079011e-01\n",
            " -6.42787610e-01 -5.92907929e-01 -5.40640817e-01 -4.86196736e-01\n",
            " -4.29794912e-01 -3.71662456e-01 -3.12033446e-01 -2.51147987e-01\n",
            " -1.89251244e-01 -1.26592454e-01 -6.34239197e-02 -2.44929360e-16]\n"
          ]
        }
      ]
    },
    {
      "cell_type": "markdown",
      "source": [
        "Запустите эту ячейку и увидите, что действительно были посчитаны именно массивы.\n",
        "\n",
        "Далее попробуйте самостоятельно определить координаты точек, принадлежащих прямой\n",
        "\n",
        "$y = 2x+1$\n",
        "\n",
        "Чтобы это сделать, при помощи той же функции np.linspace() создайте массив из 100 точек x-координаты, которые находятся в отрезке [-2,2]."
      ],
      "metadata": {
        "id": "r5ahfHBUrMds"
      }
    },
    {
      "cell_type": "code",
      "source": [
        "x_lin = x_lin = np.linspace(-2, 2, 100)\n",
        "x_lin"
      ],
      "metadata": {
        "id": "Jepe1-UHrKPU",
        "colab": {
          "base_uri": "https://localhost:8080/"
        },
        "outputId": "92c04f6b-8190-4bfe-ba19-6c2065cdc624"
      },
      "execution_count": 25,
      "outputs": [
        {
          "output_type": "execute_result",
          "data": {
            "text/plain": [
              "array([-2.        , -1.95959596, -1.91919192, -1.87878788, -1.83838384,\n",
              "       -1.7979798 , -1.75757576, -1.71717172, -1.67676768, -1.63636364,\n",
              "       -1.5959596 , -1.55555556, -1.51515152, -1.47474747, -1.43434343,\n",
              "       -1.39393939, -1.35353535, -1.31313131, -1.27272727, -1.23232323,\n",
              "       -1.19191919, -1.15151515, -1.11111111, -1.07070707, -1.03030303,\n",
              "       -0.98989899, -0.94949495, -0.90909091, -0.86868687, -0.82828283,\n",
              "       -0.78787879, -0.74747475, -0.70707071, -0.66666667, -0.62626263,\n",
              "       -0.58585859, -0.54545455, -0.50505051, -0.46464646, -0.42424242,\n",
              "       -0.38383838, -0.34343434, -0.3030303 , -0.26262626, -0.22222222,\n",
              "       -0.18181818, -0.14141414, -0.1010101 , -0.06060606, -0.02020202,\n",
              "        0.02020202,  0.06060606,  0.1010101 ,  0.14141414,  0.18181818,\n",
              "        0.22222222,  0.26262626,  0.3030303 ,  0.34343434,  0.38383838,\n",
              "        0.42424242,  0.46464646,  0.50505051,  0.54545455,  0.58585859,\n",
              "        0.62626263,  0.66666667,  0.70707071,  0.74747475,  0.78787879,\n",
              "        0.82828283,  0.86868687,  0.90909091,  0.94949495,  0.98989899,\n",
              "        1.03030303,  1.07070707,  1.11111111,  1.15151515,  1.19191919,\n",
              "        1.23232323,  1.27272727,  1.31313131,  1.35353535,  1.39393939,\n",
              "        1.43434343,  1.47474747,  1.51515152,  1.55555556,  1.5959596 ,\n",
              "        1.63636364,  1.67676768,  1.71717172,  1.75757576,  1.7979798 ,\n",
              "        1.83838384,  1.87878788,  1.91919192,  1.95959596,  2.        ])"
            ]
          },
          "metadata": {},
          "execution_count": 25
        }
      ]
    },
    {
      "cell_type": "markdown",
      "source": [
        "Затем определите y-координаты точек при помощи уравнения прямой, записанного выше."
      ],
      "metadata": {
        "id": "pnfKpHFfxoeA"
      }
    },
    {
      "cell_type": "code",
      "source": [
        "y_lin = 2 * x_lin + 1\n",
        "y_lin"
      ],
      "metadata": {
        "id": "tdV1NvnwxunB",
        "colab": {
          "base_uri": "https://localhost:8080/"
        },
        "outputId": "7e1bd1f6-99c6-4721-db9c-1fbd4f1b5620"
      },
      "execution_count": 26,
      "outputs": [
        {
          "output_type": "execute_result",
          "data": {
            "text/plain": [
              "array([-3.        , -2.91919192, -2.83838384, -2.75757576, -2.67676768,\n",
              "       -2.5959596 , -2.51515152, -2.43434343, -2.35353535, -2.27272727,\n",
              "       -2.19191919, -2.11111111, -2.03030303, -1.94949495, -1.86868687,\n",
              "       -1.78787879, -1.70707071, -1.62626263, -1.54545455, -1.46464646,\n",
              "       -1.38383838, -1.3030303 , -1.22222222, -1.14141414, -1.06060606,\n",
              "       -0.97979798, -0.8989899 , -0.81818182, -0.73737374, -0.65656566,\n",
              "       -0.57575758, -0.49494949, -0.41414141, -0.33333333, -0.25252525,\n",
              "       -0.17171717, -0.09090909, -0.01010101,  0.07070707,  0.15151515,\n",
              "        0.23232323,  0.31313131,  0.39393939,  0.47474747,  0.55555556,\n",
              "        0.63636364,  0.71717172,  0.7979798 ,  0.87878788,  0.95959596,\n",
              "        1.04040404,  1.12121212,  1.2020202 ,  1.28282828,  1.36363636,\n",
              "        1.44444444,  1.52525253,  1.60606061,  1.68686869,  1.76767677,\n",
              "        1.84848485,  1.92929293,  2.01010101,  2.09090909,  2.17171717,\n",
              "        2.25252525,  2.33333333,  2.41414141,  2.49494949,  2.57575758,\n",
              "        2.65656566,  2.73737374,  2.81818182,  2.8989899 ,  2.97979798,\n",
              "        3.06060606,  3.14141414,  3.22222222,  3.3030303 ,  3.38383838,\n",
              "        3.46464646,  3.54545455,  3.62626263,  3.70707071,  3.78787879,\n",
              "        3.86868687,  3.94949495,  4.03030303,  4.11111111,  4.19191919,\n",
              "        4.27272727,  4.35353535,  4.43434343,  4.51515152,  4.5959596 ,\n",
              "        4.67676768,  4.75757576,  4.83838384,  4.91919192,  5.        ])"
            ]
          },
          "metadata": {},
          "execution_count": 26
        }
      ]
    },
    {
      "cell_type": "markdown",
      "source": [
        "Теперь запустите следующую ячейку, которая позволит нарисовать полученные фигуры. Подробнее с визуализацией мы познакомимся в следующей части курса, а пока просто наслаждайтесь! :)"
      ],
      "metadata": {
        "id": "bk4ypXEfyFIA"
      }
    },
    {
      "cell_type": "code",
      "source": [
        "plt.xlim(-2,2)\n",
        "plt.ylim(-2,2)\n",
        "\n",
        "plt.plot(x_circle, y_circle, '-', color='red', label='Окружность')\n",
        "plt.plot(x_lin, y_lin, '-', color='green', label='Прямая')\n",
        "plt.title(\"Графики окружности и прямой\")\n",
        "plt.legend()\n",
        "\n",
        "\n",
        "plt.grid(which='major', color='#300000', linewidth='0.9', alpha=0.3, linestyle='-')\n",
        "plt.minorticks_on()\n",
        "plt.grid(which='minor', color='#300000',linewidth='0.3',  alpha=0.2, linestyle='-')"
      ],
      "metadata": {
        "id": "6DQd6rwsxyBN",
        "colab": {
          "base_uri": "https://localhost:8080/",
          "height": 452
        },
        "outputId": "47cf2156-5018-4451-a194-6a8b49af8c52"
      },
      "execution_count": 27,
      "outputs": [
        {
          "output_type": "display_data",
          "data": {
            "text/plain": [
              "<Figure size 640x480 with 1 Axes>"
            ],
            "image/png": "[encoded data removed]"
          },
          "metadata": {}
        }
      ]
    },
    {
      "cell_type": "markdown",
      "source": [
        "## Задание 6. Решение уравнений\n",
        "\n",
        "Самое важное для нас — увидеть, что прямая и окружность пересекаются в двух точках $A=(0,1)$ и $B=(-0.8, -0.6)$. Попробуем найти координаты этих точек как решение системы уравнений при помощи библиотеки SymPy.\n",
        "\n",
        "Для этого нам нужно определить символы — буквы $x$ и $y$, фигурирующие в уравнениях, которые нам нужно совместно решить:\n",
        "$\\begin{cases}\n",
        "x^2+y^2=1 \\\\\n",
        "y=2x+1\n",
        "\\end{cases}$\n",
        "\n",
        "Для этого воспользуемся объектами Symbol из библиотеки SymPy."
      ],
      "metadata": {
        "id": "bxsj1SEezqhX"
      }
    },
    {
      "cell_type": "code",
      "source": [
        "x = sympy.Symbol('x')\n",
        "y = sympy.Symbol('y')"
      ],
      "metadata": {
        "id": "FgY5hRwH0KmM"
      },
      "execution_count": 29,
      "outputs": []
    },
    {
      "cell_type": "markdown",
      "source": [
        "Далее нам нужно задать уравнения, которые нужно решать. Сначала определим уравнение окружности:"
      ],
      "metadata": {
        "id": "yA9aW0cT0ZXn"
      }
    },
    {
      "cell_type": "code",
      "source": [
        "circle_eq = x**2 + y**2 - 1\n",
        "circle_eq"
      ],
      "metadata": {
        "colab": {
          "base_uri": "https://localhost:8080/",
          "height": 38
        },
        "id": "KChFLuUp0YYi",
        "outputId": "60949cdc-1fdd-4d60-b3de-7bed94773eb6"
      },
      "execution_count": 30,
      "outputs": [
        {
          "output_type": "execute_result",
          "data": {
            "text/plain": [
              "x**2 + y**2 - 1"
            ],
            "text/latex": "$\\displaystyle x^{2} + y^{2} - 1$"
          },
          "metadata": {},
          "execution_count": 30
        }
      ]
    },
    {
      "cell_type": "markdown",
      "source": [
        "Как видите, вывод уравнения вновь достаточно красив. Определим точно так же уравнение для прямой. Для этого необходимо вспомнить, что функция Eq принимает два аргумента. Первый аргумент — это левая часть уравнения, а второй — правая."
      ],
      "metadata": {
        "id": "nyuJQj4XzHLp"
      }
    },
    {
      "cell_type": "code",
      "source": [
        "line_eq = y - (2*x + 1)"
      ],
      "metadata": {
        "id": "2oMNsWy100Uh"
      },
      "execution_count": 32,
      "outputs": []
    },
    {
      "cell_type": "markdown",
      "source": [
        "После чего воспользуемся функцией solve, позволяющей решить систему уравнений. Первый аргумент — это список уравнений типа Eq, а второй аргумент — кортеж из переменных, относительно которых нужно решить уравнения. Вот как это можно сделать:"
      ],
      "metadata": {
        "id": "Dql-yMSv22ng"
      }
    },
    {
      "cell_type": "code",
      "source": [
        "sympy.solve([circle_eq, line_eq], (x,y))"
      ],
      "metadata": {
        "id": "Jwy5itI0yc37",
        "colab": {
          "base_uri": "https://localhost:8080/"
        },
        "outputId": "979ab4b0-5827-4132-a078-e1deff093f30"
      },
      "execution_count": 33,
      "outputs": [
        {
          "output_type": "execute_result",
          "data": {
            "text/plain": [
              "[(-4/5, -3/5), (0, 1)]"
            ]
          },
          "metadata": {},
          "execution_count": 33
        }
      ]
    },
    {
      "cell_type": "markdown",
      "source": [
        "После запуска ячейки вы должны увидеть список из двух точек, которые соответствуют тем же самым точкам, что мы определили по графику."
      ],
      "metadata": {
        "id": "jvOFcFHF3El1"
      }
    }
  ]
}